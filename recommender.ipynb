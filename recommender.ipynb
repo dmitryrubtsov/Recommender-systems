{
  "nbformat": 4,
  "nbformat_minor": 0,
  "metadata": {
    "kernelspec": {
      "name": "python3",
      "display_name": "Python 3"
    },
    "colab": {
      "name": "recommender.ipynb",
      "provenance": [],
      "collapsed_sections": [
        "GFSi-fCo7sqL"
      ],
      "include_colab_link": true
    },
    "accelerator": "GPU",
    "widgets": {
      "application/vnd.jupyter.widget-state+json": {
        "7ed35bfc548e4fabb95bac6608a9a39d": {
          "model_module": "@jupyter-widgets/controls",
          "model_name": "HBoxModel",
          "state": {
            "_view_name": "HBoxView",
            "_dom_classes": [],
            "_model_name": "HBoxModel",
            "_view_module": "@jupyter-widgets/controls",
            "_model_module_version": "1.5.0",
            "_view_count": null,
            "_view_module_version": "1.5.0",
            "box_style": "",
            "layout": "IPY_MODEL_654e6732381e464fa0f0178dc1210f48",
            "_model_module": "@jupyter-widgets/controls",
            "children": [
              "IPY_MODEL_e7e8b32b09d04f048c45e887c8584804",
              "IPY_MODEL_7c2405ca55714a9a816f229aa1e6dbe4"
            ]
          }
        },
        "654e6732381e464fa0f0178dc1210f48": {
          "model_module": "@jupyter-widgets/base",
          "model_name": "LayoutModel",
          "state": {
            "_view_name": "LayoutView",
            "grid_template_rows": null,
            "right": null,
            "justify_content": null,
            "_view_module": "@jupyter-widgets/base",
            "overflow": null,
            "_model_module_version": "1.2.0",
            "_view_count": null,
            "flex_flow": null,
            "width": null,
            "min_width": null,
            "border": null,
            "align_items": null,
            "bottom": null,
            "_model_module": "@jupyter-widgets/base",
            "top": null,
            "grid_column": null,
            "overflow_y": null,
            "overflow_x": null,
            "grid_auto_flow": null,
            "grid_area": null,
            "grid_template_columns": null,
            "flex": null,
            "_model_name": "LayoutModel",
            "justify_items": null,
            "grid_row": null,
            "max_height": null,
            "align_content": null,
            "visibility": null,
            "align_self": null,
            "height": null,
            "min_height": null,
            "padding": null,
            "grid_auto_rows": null,
            "grid_gap": null,
            "max_width": null,
            "order": null,
            "_view_module_version": "1.2.0",
            "grid_template_areas": null,
            "object_position": null,
            "object_fit": null,
            "grid_auto_columns": null,
            "margin": null,
            "display": null,
            "left": null
          }
        },
        "e7e8b32b09d04f048c45e887c8584804": {
          "model_module": "@jupyter-widgets/controls",
          "model_name": "FloatProgressModel",
          "state": {
            "_view_name": "ProgressView",
            "style": "IPY_MODEL_dfbb4f98ac4d457db95a08537c57caa2",
            "_dom_classes": [],
            "description": "Pandas Apply: 100%",
            "_model_name": "FloatProgressModel",
            "bar_style": "success",
            "max": 1885,
            "_view_module": "@jupyter-widgets/controls",
            "_model_module_version": "1.5.0",
            "value": 1885,
            "_view_count": null,
            "_view_module_version": "1.5.0",
            "orientation": "horizontal",
            "min": 0,
            "description_tooltip": null,
            "_model_module": "@jupyter-widgets/controls",
            "layout": "IPY_MODEL_68ff43ae7d5c4f9fbfe3173221e6e1af"
          }
        },
        "7c2405ca55714a9a816f229aa1e6dbe4": {
          "model_module": "@jupyter-widgets/controls",
          "model_name": "HTMLModel",
          "state": {
            "_view_name": "HTMLView",
            "style": "IPY_MODEL_0765f50edb5d488a9042e9222679a463",
            "_dom_classes": [],
            "description": "",
            "_model_name": "HTMLModel",
            "placeholder": "​",
            "_view_module": "@jupyter-widgets/controls",
            "_model_module_version": "1.5.0",
            "value": " 1885/1885 [00:37&lt;00:00, 50.67it/s]",
            "_view_count": null,
            "_view_module_version": "1.5.0",
            "description_tooltip": null,
            "_model_module": "@jupyter-widgets/controls",
            "layout": "IPY_MODEL_b870dd5e2d414494a8f8f041a988a579"
          }
        },
        "dfbb4f98ac4d457db95a08537c57caa2": {
          "model_module": "@jupyter-widgets/controls",
          "model_name": "ProgressStyleModel",
          "state": {
            "_view_name": "StyleView",
            "_model_name": "ProgressStyleModel",
            "description_width": "initial",
            "_view_module": "@jupyter-widgets/base",
            "_model_module_version": "1.5.0",
            "_view_count": null,
            "_view_module_version": "1.2.0",
            "bar_color": null,
            "_model_module": "@jupyter-widgets/controls"
          }
        },
        "68ff43ae7d5c4f9fbfe3173221e6e1af": {
          "model_module": "@jupyter-widgets/base",
          "model_name": "LayoutModel",
          "state": {
            "_view_name": "LayoutView",
            "grid_template_rows": null,
            "right": null,
            "justify_content": null,
            "_view_module": "@jupyter-widgets/base",
            "overflow": null,
            "_model_module_version": "1.2.0",
            "_view_count": null,
            "flex_flow": null,
            "width": null,
            "min_width": null,
            "border": null,
            "align_items": null,
            "bottom": null,
            "_model_module": "@jupyter-widgets/base",
            "top": null,
            "grid_column": null,
            "overflow_y": null,
            "overflow_x": null,
            "grid_auto_flow": null,
            "grid_area": null,
            "grid_template_columns": null,
            "flex": null,
            "_model_name": "LayoutModel",
            "justify_items": null,
            "grid_row": null,
            "max_height": null,
            "align_content": null,
            "visibility": null,
            "align_self": null,
            "height": null,
            "min_height": null,
            "padding": null,
            "grid_auto_rows": null,
            "grid_gap": null,
            "max_width": null,
            "order": null,
            "_view_module_version": "1.2.0",
            "grid_template_areas": null,
            "object_position": null,
            "object_fit": null,
            "grid_auto_columns": null,
            "margin": null,
            "display": null,
            "left": null
          }
        },
        "0765f50edb5d488a9042e9222679a463": {
          "model_module": "@jupyter-widgets/controls",
          "model_name": "DescriptionStyleModel",
          "state": {
            "_view_name": "StyleView",
            "_model_name": "DescriptionStyleModel",
            "description_width": "",
            "_view_module": "@jupyter-widgets/base",
            "_model_module_version": "1.5.0",
            "_view_count": null,
            "_view_module_version": "1.2.0",
            "_model_module": "@jupyter-widgets/controls"
          }
        },
        "b870dd5e2d414494a8f8f041a988a579": {
          "model_module": "@jupyter-widgets/base",
          "model_name": "LayoutModel",
          "state": {
            "_view_name": "LayoutView",
            "grid_template_rows": null,
            "right": null,
            "justify_content": null,
            "_view_module": "@jupyter-widgets/base",
            "overflow": null,
            "_model_module_version": "1.2.0",
            "_view_count": null,
            "flex_flow": null,
            "width": null,
            "min_width": null,
            "border": null,
            "align_items": null,
            "bottom": null,
            "_model_module": "@jupyter-widgets/base",
            "top": null,
            "grid_column": null,
            "overflow_y": null,
            "overflow_x": null,
            "grid_auto_flow": null,
            "grid_area": null,
            "grid_template_columns": null,
            "flex": null,
            "_model_name": "LayoutModel",
            "justify_items": null,
            "grid_row": null,
            "max_height": null,
            "align_content": null,
            "visibility": null,
            "align_self": null,
            "height": null,
            "min_height": null,
            "padding": null,
            "grid_auto_rows": null,
            "grid_gap": null,
            "max_width": null,
            "order": null,
            "_view_module_version": "1.2.0",
            "grid_template_areas": null,
            "object_position": null,
            "object_fit": null,
            "grid_auto_columns": null,
            "margin": null,
            "display": null,
            "left": null
          }
        },
        "c0c3dad568cc46b08736d4dd1be3c131": {
          "model_module": "@jupyter-widgets/controls",
          "model_name": "HBoxModel",
          "state": {
            "_view_name": "HBoxView",
            "_dom_classes": [],
            "_model_name": "HBoxModel",
            "_view_module": "@jupyter-widgets/controls",
            "_model_module_version": "1.5.0",
            "_view_count": null,
            "_view_module_version": "1.5.0",
            "box_style": "",
            "layout": "IPY_MODEL_faee94142c5a4353864e54ac574c4968",
            "_model_module": "@jupyter-widgets/controls",
            "children": [
              "IPY_MODEL_151058432c574087a506b0de073676ad",
              "IPY_MODEL_7dd5f871ba3b4f8e91b3cef6806e0ee5"
            ]
          }
        },
        "faee94142c5a4353864e54ac574c4968": {
          "model_module": "@jupyter-widgets/base",
          "model_name": "LayoutModel",
          "state": {
            "_view_name": "LayoutView",
            "grid_template_rows": null,
            "right": null,
            "justify_content": null,
            "_view_module": "@jupyter-widgets/base",
            "overflow": null,
            "_model_module_version": "1.2.0",
            "_view_count": null,
            "flex_flow": null,
            "width": null,
            "min_width": null,
            "border": null,
            "align_items": null,
            "bottom": null,
            "_model_module": "@jupyter-widgets/base",
            "top": null,
            "grid_column": null,
            "overflow_y": null,
            "overflow_x": null,
            "grid_auto_flow": null,
            "grid_area": null,
            "grid_template_columns": null,
            "flex": null,
            "_model_name": "LayoutModel",
            "justify_items": null,
            "grid_row": null,
            "max_height": null,
            "align_content": null,
            "visibility": null,
            "align_self": null,
            "height": null,
            "min_height": null,
            "padding": null,
            "grid_auto_rows": null,
            "grid_gap": null,
            "max_width": null,
            "order": null,
            "_view_module_version": "1.2.0",
            "grid_template_areas": null,
            "object_position": null,
            "object_fit": null,
            "grid_auto_columns": null,
            "margin": null,
            "display": null,
            "left": null
          }
        },
        "151058432c574087a506b0de073676ad": {
          "model_module": "@jupyter-widgets/controls",
          "model_name": "FloatProgressModel",
          "state": {
            "_view_name": "ProgressView",
            "style": "IPY_MODEL_1abc04498d37471fbcb3f7fbb5126ec4",
            "_dom_classes": [],
            "description": "100%",
            "_model_name": "FloatProgressModel",
            "bar_style": "success",
            "max": 10,
            "_view_module": "@jupyter-widgets/controls",
            "_model_module_version": "1.5.0",
            "value": 10,
            "_view_count": null,
            "_view_module_version": "1.5.0",
            "orientation": "horizontal",
            "min": 0,
            "description_tooltip": null,
            "_model_module": "@jupyter-widgets/controls",
            "layout": "IPY_MODEL_760d5c9764e1457c882b9848fe51f151"
          }
        },
        "7dd5f871ba3b4f8e91b3cef6806e0ee5": {
          "model_module": "@jupyter-widgets/controls",
          "model_name": "HTMLModel",
          "state": {
            "_view_name": "HTMLView",
            "style": "IPY_MODEL_fe7d58843fae4af7a556650007903670",
            "_dom_classes": [],
            "description": "",
            "_model_name": "HTMLModel",
            "placeholder": "​",
            "_view_module": "@jupyter-widgets/controls",
            "_model_module_version": "1.5.0",
            "value": " 10/10 [00:02&lt;00:00,  4.19it/s]",
            "_view_count": null,
            "_view_module_version": "1.5.0",
            "description_tooltip": null,
            "_model_module": "@jupyter-widgets/controls",
            "layout": "IPY_MODEL_fc084da9b1a745f980596481245626a2"
          }
        },
        "1abc04498d37471fbcb3f7fbb5126ec4": {
          "model_module": "@jupyter-widgets/controls",
          "model_name": "ProgressStyleModel",
          "state": {
            "_view_name": "StyleView",
            "_model_name": "ProgressStyleModel",
            "description_width": "initial",
            "_view_module": "@jupyter-widgets/base",
            "_model_module_version": "1.5.0",
            "_view_count": null,
            "_view_module_version": "1.2.0",
            "bar_color": null,
            "_model_module": "@jupyter-widgets/controls"
          }
        },
        "760d5c9764e1457c882b9848fe51f151": {
          "model_module": "@jupyter-widgets/base",
          "model_name": "LayoutModel",
          "state": {
            "_view_name": "LayoutView",
            "grid_template_rows": null,
            "right": null,
            "justify_content": null,
            "_view_module": "@jupyter-widgets/base",
            "overflow": null,
            "_model_module_version": "1.2.0",
            "_view_count": null,
            "flex_flow": null,
            "width": null,
            "min_width": null,
            "border": null,
            "align_items": null,
            "bottom": null,
            "_model_module": "@jupyter-widgets/base",
            "top": null,
            "grid_column": null,
            "overflow_y": null,
            "overflow_x": null,
            "grid_auto_flow": null,
            "grid_area": null,
            "grid_template_columns": null,
            "flex": null,
            "_model_name": "LayoutModel",
            "justify_items": null,
            "grid_row": null,
            "max_height": null,
            "align_content": null,
            "visibility": null,
            "align_self": null,
            "height": null,
            "min_height": null,
            "padding": null,
            "grid_auto_rows": null,
            "grid_gap": null,
            "max_width": null,
            "order": null,
            "_view_module_version": "1.2.0",
            "grid_template_areas": null,
            "object_position": null,
            "object_fit": null,
            "grid_auto_columns": null,
            "margin": null,
            "display": null,
            "left": null
          }
        },
        "fe7d58843fae4af7a556650007903670": {
          "model_module": "@jupyter-widgets/controls",
          "model_name": "DescriptionStyleModel",
          "state": {
            "_view_name": "StyleView",
            "_model_name": "DescriptionStyleModel",
            "description_width": "",
            "_view_module": "@jupyter-widgets/base",
            "_model_module_version": "1.5.0",
            "_view_count": null,
            "_view_module_version": "1.2.0",
            "_model_module": "@jupyter-widgets/controls"
          }
        },
        "fc084da9b1a745f980596481245626a2": {
          "model_module": "@jupyter-widgets/base",
          "model_name": "LayoutModel",
          "state": {
            "_view_name": "LayoutView",
            "grid_template_rows": null,
            "right": null,
            "justify_content": null,
            "_view_module": "@jupyter-widgets/base",
            "overflow": null,
            "_model_module_version": "1.2.0",
            "_view_count": null,
            "flex_flow": null,
            "width": null,
            "min_width": null,
            "border": null,
            "align_items": null,
            "bottom": null,
            "_model_module": "@jupyter-widgets/base",
            "top": null,
            "grid_column": null,
            "overflow_y": null,
            "overflow_x": null,
            "grid_auto_flow": null,
            "grid_area": null,
            "grid_template_columns": null,
            "flex": null,
            "_model_name": "LayoutModel",
            "justify_items": null,
            "grid_row": null,
            "max_height": null,
            "align_content": null,
            "visibility": null,
            "align_self": null,
            "height": null,
            "min_height": null,
            "padding": null,
            "grid_auto_rows": null,
            "grid_gap": null,
            "max_width": null,
            "order": null,
            "_view_module_version": "1.2.0",
            "grid_template_areas": null,
            "object_position": null,
            "object_fit": null,
            "grid_auto_columns": null,
            "margin": null,
            "display": null,
            "left": null
          }
        },
        "ebf36664099e4520b2c90a06db64c0b9": {
          "model_module": "@jupyter-widgets/controls",
          "model_name": "HBoxModel",
          "state": {
            "_view_name": "HBoxView",
            "_dom_classes": [],
            "_model_name": "HBoxModel",
            "_view_module": "@jupyter-widgets/controls",
            "_model_module_version": "1.5.0",
            "_view_count": null,
            "_view_module_version": "1.5.0",
            "box_style": "",
            "layout": "IPY_MODEL_c90036a6189c44ba9a924b0f6cb0a3b1",
            "_model_module": "@jupyter-widgets/controls",
            "children": [
              "IPY_MODEL_82797b62007d497996f1850da59514a8",
              "IPY_MODEL_ee8fdf671361419c963687d3f584d869"
            ]
          }
        },
        "c90036a6189c44ba9a924b0f6cb0a3b1": {
          "model_module": "@jupyter-widgets/base",
          "model_name": "LayoutModel",
          "state": {
            "_view_name": "LayoutView",
            "grid_template_rows": null,
            "right": null,
            "justify_content": null,
            "_view_module": "@jupyter-widgets/base",
            "overflow": null,
            "_model_module_version": "1.2.0",
            "_view_count": null,
            "flex_flow": null,
            "width": null,
            "min_width": null,
            "border": null,
            "align_items": null,
            "bottom": null,
            "_model_module": "@jupyter-widgets/base",
            "top": null,
            "grid_column": null,
            "overflow_y": null,
            "overflow_x": null,
            "grid_auto_flow": null,
            "grid_area": null,
            "grid_template_columns": null,
            "flex": null,
            "_model_name": "LayoutModel",
            "justify_items": null,
            "grid_row": null,
            "max_height": null,
            "align_content": null,
            "visibility": null,
            "align_self": null,
            "height": null,
            "min_height": null,
            "padding": null,
            "grid_auto_rows": null,
            "grid_gap": null,
            "max_width": null,
            "order": null,
            "_view_module_version": "1.2.0",
            "grid_template_areas": null,
            "object_position": null,
            "object_fit": null,
            "grid_auto_columns": null,
            "margin": null,
            "display": null,
            "left": null
          }
        },
        "82797b62007d497996f1850da59514a8": {
          "model_module": "@jupyter-widgets/controls",
          "model_name": "FloatProgressModel",
          "state": {
            "_view_name": "ProgressView",
            "style": "IPY_MODEL_109d20f79b4945a180715f15fc6eac0e",
            "_dom_classes": [],
            "description": "100%",
            "_model_name": "FloatProgressModel",
            "bar_style": "success",
            "max": 4001,
            "_view_module": "@jupyter-widgets/controls",
            "_model_module_version": "1.5.0",
            "value": 4001,
            "_view_count": null,
            "_view_module_version": "1.5.0",
            "orientation": "horizontal",
            "min": 0,
            "description_tooltip": null,
            "_model_module": "@jupyter-widgets/controls",
            "layout": "IPY_MODEL_156d6be20bed433282506c8f74771807"
          }
        },
        "ee8fdf671361419c963687d3f584d869": {
          "model_module": "@jupyter-widgets/controls",
          "model_name": "HTMLModel",
          "state": {
            "_view_name": "HTMLView",
            "style": "IPY_MODEL_9a501c86ba554c909e80dcf3955b3370",
            "_dom_classes": [],
            "description": "",
            "_model_name": "HTMLModel",
            "placeholder": "​",
            "_view_module": "@jupyter-widgets/controls",
            "_model_module_version": "1.5.0",
            "value": " 4001/4001 [00:02&lt;00:00, 1882.50it/s]",
            "_view_count": null,
            "_view_module_version": "1.5.0",
            "description_tooltip": null,
            "_model_module": "@jupyter-widgets/controls",
            "layout": "IPY_MODEL_020cbf594be34f00bad385980d1c4d31"
          }
        },
        "109d20f79b4945a180715f15fc6eac0e": {
          "model_module": "@jupyter-widgets/controls",
          "model_name": "ProgressStyleModel",
          "state": {
            "_view_name": "StyleView",
            "_model_name": "ProgressStyleModel",
            "description_width": "initial",
            "_view_module": "@jupyter-widgets/base",
            "_model_module_version": "1.5.0",
            "_view_count": null,
            "_view_module_version": "1.2.0",
            "bar_color": null,
            "_model_module": "@jupyter-widgets/controls"
          }
        },
        "156d6be20bed433282506c8f74771807": {
          "model_module": "@jupyter-widgets/base",
          "model_name": "LayoutModel",
          "state": {
            "_view_name": "LayoutView",
            "grid_template_rows": null,
            "right": null,
            "justify_content": null,
            "_view_module": "@jupyter-widgets/base",
            "overflow": null,
            "_model_module_version": "1.2.0",
            "_view_count": null,
            "flex_flow": null,
            "width": null,
            "min_width": null,
            "border": null,
            "align_items": null,
            "bottom": null,
            "_model_module": "@jupyter-widgets/base",
            "top": null,
            "grid_column": null,
            "overflow_y": null,
            "overflow_x": null,
            "grid_auto_flow": null,
            "grid_area": null,
            "grid_template_columns": null,
            "flex": null,
            "_model_name": "LayoutModel",
            "justify_items": null,
            "grid_row": null,
            "max_height": null,
            "align_content": null,
            "visibility": null,
            "align_self": null,
            "height": null,
            "min_height": null,
            "padding": null,
            "grid_auto_rows": null,
            "grid_gap": null,
            "max_width": null,
            "order": null,
            "_view_module_version": "1.2.0",
            "grid_template_areas": null,
            "object_position": null,
            "object_fit": null,
            "grid_auto_columns": null,
            "margin": null,
            "display": null,
            "left": null
          }
        },
        "9a501c86ba554c909e80dcf3955b3370": {
          "model_module": "@jupyter-widgets/controls",
          "model_name": "DescriptionStyleModel",
          "state": {
            "_view_name": "StyleView",
            "_model_name": "DescriptionStyleModel",
            "description_width": "",
            "_view_module": "@jupyter-widgets/base",
            "_model_module_version": "1.5.0",
            "_view_count": null,
            "_view_module_version": "1.2.0",
            "_model_module": "@jupyter-widgets/controls"
          }
        },
        "020cbf594be34f00bad385980d1c4d31": {
          "model_module": "@jupyter-widgets/base",
          "model_name": "LayoutModel",
          "state": {
            "_view_name": "LayoutView",
            "grid_template_rows": null,
            "right": null,
            "justify_content": null,
            "_view_module": "@jupyter-widgets/base",
            "overflow": null,
            "_model_module_version": "1.2.0",
            "_view_count": null,
            "flex_flow": null,
            "width": null,
            "min_width": null,
            "border": null,
            "align_items": null,
            "bottom": null,
            "_model_module": "@jupyter-widgets/base",
            "top": null,
            "grid_column": null,
            "overflow_y": null,
            "overflow_x": null,
            "grid_auto_flow": null,
            "grid_area": null,
            "grid_template_columns": null,
            "flex": null,
            "_model_name": "LayoutModel",
            "justify_items": null,
            "grid_row": null,
            "max_height": null,
            "align_content": null,
            "visibility": null,
            "align_self": null,
            "height": null,
            "min_height": null,
            "padding": null,
            "grid_auto_rows": null,
            "grid_gap": null,
            "max_width": null,
            "order": null,
            "_view_module_version": "1.2.0",
            "grid_template_areas": null,
            "object_position": null,
            "object_fit": null,
            "grid_auto_columns": null,
            "margin": null,
            "display": null,
            "left": null
          }
        }
      }
    }
  },
  "cells": [
    {
      "cell_type": "markdown",
      "metadata": {
        "id": "view-in-github",
        "colab_type": "text"
      },
      "source": [
        "<a href=\"https://colab.research.google.com/github/dmitryrubtsov/Recommender-systems/blob/master/recommender.ipynb\" target=\"_parent\"><img src=\"https://colab.research.google.com/assets/colab-badge.svg\" alt=\"Open In Colab\"/></a>"
      ]
    },
    {
      "cell_type": "markdown",
      "metadata": {
        "id": "9eyfMfFm7sok",
        "colab_type": "text"
      },
      "source": [
        "# Рекомендательные системы в бизнесе"
      ]
    },
    {
      "cell_type": "markdown",
      "metadata": {
        "id": "z1YbUvQs7sov",
        "colab_type": "text"
      },
      "source": [
        "## Info"
      ]
    },
    {
      "cell_type": "markdown",
      "metadata": {
        "id": "EFZh1D9Z7soy",
        "colab_type": "text"
      },
      "source": [
        "**Целевая метрика** - money precision@5. Порог для уcпешной сдачи проекта money precision@5 > 20%\n",
        "\n",
        "**Бизнес ограничения в топ-5 товарах:**\n",
        "- Для каждого юзера 5 рекомендаций\n",
        "- 2 новых товара (юзер никогда не покупал)\n",
        "- 1 дорогой товар, > 7 долларов\n",
        "- Все товары из разных категорий (категория - sub_commodity_desc)  \n",
        "- Стоимость каждого рекомендованного товара > 1 доллара  \n",
        "\n",
        "**Baseline**: [github](https://github.com/geangohn/recsys-tutorial)"
      ]
    },
    {
      "cell_type": "markdown",
      "metadata": {
        "id": "8tq0tCOpHey8",
        "colab_type": "text"
      },
      "source": [
        "$$\\mathtt{Money \\quad Precision@k} = \\frac{\\mathtt{revenue \\quad of \\quad recommended \\quad items @K \\quad that \\quad are  \\quad relevant}}{\\mathtt{revenue \\quad of \\quad recommended \\quad items @k}}$$"
      ]
    },
    {
      "cell_type": "markdown",
      "metadata": {
        "id": "aRhrjt2b7so2",
        "colab_type": "text"
      },
      "source": [
        "<a id=load></a>\n",
        "## Load Data and Modules"
      ]
    },
    {
      "cell_type": "markdown",
      "metadata": {
        "id": "H2XGa9yU7so6",
        "colab_type": "text"
      },
      "source": [
        "### Load modules"
      ]
    },
    {
      "cell_type": "code",
      "metadata": {
        "id": "03rvd7tRfUp6",
        "colab_type": "code",
        "colab": {
          "base_uri": "https://localhost:8080/",
          "height": 1000
        },
        "outputId": "4e1fb2f1-8bbe-427c-c38a-a551aa195785"
      },
      "source": [
        "!pip install implicit swifter"
      ],
      "execution_count": 1,
      "outputs": [
        {
          "output_type": "stream",
          "text": [
            "Requirement already satisfied: implicit in /usr/local/lib/python3.6/dist-packages (0.4.2)\n",
            "Requirement already satisfied: swifter in /usr/local/lib/python3.6/dist-packages (1.0.3)\n",
            "Requirement already satisfied: tqdm>=4.27 in /usr/local/lib/python3.6/dist-packages (from implicit) (4.41.1)\n",
            "Requirement already satisfied: numpy in /usr/local/lib/python3.6/dist-packages (from implicit) (1.18.5)\n",
            "Requirement already satisfied: scipy>=0.16 in /usr/local/lib/python3.6/dist-packages (from implicit) (1.4.1)\n",
            "Requirement already satisfied: ipywidgets>=7.0.0 in /usr/local/lib/python3.6/dist-packages (from swifter) (7.5.1)\n",
            "Requirement already satisfied: dask[complete]>=0.19.0 in /usr/local/lib/python3.6/dist-packages (from swifter) (2.12.0)\n",
            "Requirement already satisfied: bleach>=3.1.1 in /usr/local/lib/python3.6/dist-packages (from swifter) (3.1.5)\n",
            "Requirement already satisfied: parso>0.4.0 in /usr/local/lib/python3.6/dist-packages (from swifter) (0.7.1)\n",
            "Requirement already satisfied: psutil>=5.6.6 in /usr/local/lib/python3.6/dist-packages (from swifter) (5.7.2)\n",
            "Requirement already satisfied: pandas>=0.23.0 in /usr/local/lib/python3.6/dist-packages (from swifter) (1.0.5)\n",
            "Requirement already satisfied: modin[ray]>=0.7.4 in /usr/local/lib/python3.6/dist-packages (from swifter) (0.8.0)\n",
            "Requirement already satisfied: widgetsnbextension~=3.5.0 in /usr/local/lib/python3.6/dist-packages (from ipywidgets>=7.0.0->swifter) (3.5.1)\n",
            "Requirement already satisfied: traitlets>=4.3.1 in /usr/local/lib/python3.6/dist-packages (from ipywidgets>=7.0.0->swifter) (4.3.3)\n",
            "Requirement already satisfied: nbformat>=4.2.0 in /usr/local/lib/python3.6/dist-packages (from ipywidgets>=7.0.0->swifter) (5.0.7)\n",
            "Requirement already satisfied: ipython>=4.0.0; python_version >= \"3.3\" in /usr/local/lib/python3.6/dist-packages (from ipywidgets>=7.0.0->swifter) (5.5.0)\n",
            "Requirement already satisfied: ipykernel>=4.5.1 in /usr/local/lib/python3.6/dist-packages (from ipywidgets>=7.0.0->swifter) (4.10.1)\n",
            "Requirement already satisfied: cloudpickle>=0.2.1; extra == \"complete\" in /usr/local/lib/python3.6/dist-packages (from dask[complete]>=0.19.0->swifter) (1.3.0)\n",
            "Requirement already satisfied: distributed>=2.0; extra == \"complete\" in /usr/local/lib/python3.6/dist-packages (from dask[complete]>=0.19.0->swifter) (2.22.0)\n",
            "Requirement already satisfied: partd>=0.3.10; extra == \"complete\" in /usr/local/lib/python3.6/dist-packages (from dask[complete]>=0.19.0->swifter) (1.1.0)\n",
            "Requirement already satisfied: bokeh>=1.0.0; extra == \"complete\" in /usr/local/lib/python3.6/dist-packages (from dask[complete]>=0.19.0->swifter) (2.1.1)\n",
            "Requirement already satisfied: PyYaml; extra == \"complete\" in /usr/local/lib/python3.6/dist-packages (from dask[complete]>=0.19.0->swifter) (3.13)\n",
            "Requirement already satisfied: toolz>=0.7.3; extra == \"complete\" in /usr/local/lib/python3.6/dist-packages (from dask[complete]>=0.19.0->swifter) (0.10.0)\n",
            "Requirement already satisfied: fsspec>=0.6.0; extra == \"complete\" in /usr/local/lib/python3.6/dist-packages (from dask[complete]>=0.19.0->swifter) (0.8.0)\n",
            "Requirement already satisfied: six>=1.9.0 in /usr/local/lib/python3.6/dist-packages (from bleach>=3.1.1->swifter) (1.15.0)\n",
            "Requirement already satisfied: packaging in /usr/local/lib/python3.6/dist-packages (from bleach>=3.1.1->swifter) (20.4)\n",
            "Requirement already satisfied: webencodings in /usr/local/lib/python3.6/dist-packages (from bleach>=3.1.1->swifter) (0.5.1)\n",
            "Requirement already satisfied: python-dateutil>=2.6.1 in /usr/local/lib/python3.6/dist-packages (from pandas>=0.23.0->swifter) (2.8.1)\n",
            "Requirement already satisfied: pytz>=2017.2 in /usr/local/lib/python3.6/dist-packages (from pandas>=0.23.0->swifter) (2018.9)\n",
            "Requirement already satisfied: pyarrow<0.17; extra == \"ray\" in /usr/local/lib/python3.6/dist-packages (from modin[ray]>=0.7.4->swifter) (0.14.1)\n",
            "Requirement already satisfied: ray==0.8.6; extra == \"ray\" in /usr/local/lib/python3.6/dist-packages (from modin[ray]>=0.7.4->swifter) (0.8.6)\n",
            "Requirement already satisfied: notebook>=4.4.1 in /usr/local/lib/python3.6/dist-packages (from widgetsnbextension~=3.5.0->ipywidgets>=7.0.0->swifter) (5.3.1)\n",
            "Requirement already satisfied: decorator in /usr/local/lib/python3.6/dist-packages (from traitlets>=4.3.1->ipywidgets>=7.0.0->swifter) (4.4.2)\n",
            "Requirement already satisfied: ipython-genutils in /usr/local/lib/python3.6/dist-packages (from traitlets>=4.3.1->ipywidgets>=7.0.0->swifter) (0.2.0)\n",
            "Requirement already satisfied: jsonschema!=2.5.0,>=2.4 in /usr/local/lib/python3.6/dist-packages (from nbformat>=4.2.0->ipywidgets>=7.0.0->swifter) (2.6.0)\n",
            "Requirement already satisfied: jupyter-core in /usr/local/lib/python3.6/dist-packages (from nbformat>=4.2.0->ipywidgets>=7.0.0->swifter) (4.6.3)\n",
            "Requirement already satisfied: setuptools>=18.5 in /usr/local/lib/python3.6/dist-packages (from ipython>=4.0.0; python_version >= \"3.3\"->ipywidgets>=7.0.0->swifter) (49.2.0)\n",
            "Requirement already satisfied: pygments in /usr/local/lib/python3.6/dist-packages (from ipython>=4.0.0; python_version >= \"3.3\"->ipywidgets>=7.0.0->swifter) (2.1.3)\n",
            "Requirement already satisfied: simplegeneric>0.8 in /usr/local/lib/python3.6/dist-packages (from ipython>=4.0.0; python_version >= \"3.3\"->ipywidgets>=7.0.0->swifter) (0.8.1)\n",
            "Requirement already satisfied: pickleshare in /usr/local/lib/python3.6/dist-packages (from ipython>=4.0.0; python_version >= \"3.3\"->ipywidgets>=7.0.0->swifter) (0.7.5)\n",
            "Requirement already satisfied: pexpect; sys_platform != \"win32\" in /usr/local/lib/python3.6/dist-packages (from ipython>=4.0.0; python_version >= \"3.3\"->ipywidgets>=7.0.0->swifter) (4.8.0)\n",
            "Requirement already satisfied: prompt-toolkit<2.0.0,>=1.0.4 in /usr/local/lib/python3.6/dist-packages (from ipython>=4.0.0; python_version >= \"3.3\"->ipywidgets>=7.0.0->swifter) (1.0.18)\n",
            "Requirement already satisfied: tornado>=4.0 in /usr/local/lib/python3.6/dist-packages (from ipykernel>=4.5.1->ipywidgets>=7.0.0->swifter) (5.1.1)\n",
            "Requirement already satisfied: jupyter-client in /usr/local/lib/python3.6/dist-packages (from ipykernel>=4.5.1->ipywidgets>=7.0.0->swifter) (5.3.5)\n",
            "Requirement already satisfied: sortedcontainers!=2.0.0,!=2.0.1 in /usr/local/lib/python3.6/dist-packages (from distributed>=2.0; extra == \"complete\"->dask[complete]>=0.19.0->swifter) (2.2.2)\n",
            "Requirement already satisfied: zict>=0.1.3 in /usr/local/lib/python3.6/dist-packages (from distributed>=2.0; extra == \"complete\"->dask[complete]>=0.19.0->swifter) (2.0.0)\n",
            "Requirement already satisfied: contextvars; python_version < \"3.7\" in /usr/local/lib/python3.6/dist-packages (from distributed>=2.0; extra == \"complete\"->dask[complete]>=0.19.0->swifter) (2.4)\n",
            "Requirement already satisfied: msgpack>=0.6.0 in /usr/local/lib/python3.6/dist-packages (from distributed>=2.0; extra == \"complete\"->dask[complete]>=0.19.0->swifter) (1.0.0)\n",
            "Requirement already satisfied: tblib>=1.6.0 in /usr/local/lib/python3.6/dist-packages (from distributed>=2.0; extra == \"complete\"->dask[complete]>=0.19.0->swifter) (1.7.0)\n",
            "Requirement already satisfied: click>=6.6 in /usr/local/lib/python3.6/dist-packages (from distributed>=2.0; extra == \"complete\"->dask[complete]>=0.19.0->swifter) (7.1.2)\n",
            "Requirement already satisfied: locket in /usr/local/lib/python3.6/dist-packages (from partd>=0.3.10; extra == \"complete\"->dask[complete]>=0.19.0->swifter) (0.2.0)\n",
            "Requirement already satisfied: pillow>=4.0 in /usr/local/lib/python3.6/dist-packages (from bokeh>=1.0.0; extra == \"complete\"->dask[complete]>=0.19.0->swifter) (7.0.0)\n",
            "Requirement already satisfied: typing-extensions>=3.7.4 in /usr/local/lib/python3.6/dist-packages (from bokeh>=1.0.0; extra == \"complete\"->dask[complete]>=0.19.0->swifter) (3.7.4.2)\n",
            "Requirement already satisfied: Jinja2>=2.7 in /usr/local/lib/python3.6/dist-packages (from bokeh>=1.0.0; extra == \"complete\"->dask[complete]>=0.19.0->swifter) (2.11.2)\n",
            "Requirement already satisfied: pyparsing>=2.0.2 in /usr/local/lib/python3.6/dist-packages (from packaging->bleach>=3.1.1->swifter) (2.4.7)\n",
            "Requirement already satisfied: colorama in /usr/local/lib/python3.6/dist-packages (from ray==0.8.6; extra == \"ray\"->modin[ray]>=0.7.4->swifter) (0.4.3)\n",
            "Requirement already satisfied: redis<3.5.0,>=3.3.2 in /usr/local/lib/python3.6/dist-packages (from ray==0.8.6; extra == \"ray\"->modin[ray]>=0.7.4->swifter) (3.4.1)\n",
            "Requirement already satisfied: protobuf>=3.8.0 in /usr/local/lib/python3.6/dist-packages (from ray==0.8.6; extra == \"ray\"->modin[ray]>=0.7.4->swifter) (3.12.4)\n",
            "Requirement already satisfied: filelock in /usr/local/lib/python3.6/dist-packages (from ray==0.8.6; extra == \"ray\"->modin[ray]>=0.7.4->swifter) (3.0.12)\n",
            "Requirement already satisfied: google in /usr/local/lib/python3.6/dist-packages (from ray==0.8.6; extra == \"ray\"->modin[ray]>=0.7.4->swifter) (2.0.3)\n",
            "Requirement already satisfied: py-spy>=0.2.0 in /usr/local/lib/python3.6/dist-packages (from ray==0.8.6; extra == \"ray\"->modin[ray]>=0.7.4->swifter) (0.3.3)\n",
            "Requirement already satisfied: grpcio in /usr/local/lib/python3.6/dist-packages (from ray==0.8.6; extra == \"ray\"->modin[ray]>=0.7.4->swifter) (1.30.0)\n",
            "Requirement already satisfied: aiohttp in /usr/local/lib/python3.6/dist-packages (from ray==0.8.6; extra == \"ray\"->modin[ray]>=0.7.4->swifter) (3.6.2)\n",
            "Requirement already satisfied: nbconvert in /usr/local/lib/python3.6/dist-packages (from notebook>=4.4.1->widgetsnbextension~=3.5.0->ipywidgets>=7.0.0->swifter) (5.6.1)\n",
            "Requirement already satisfied: Send2Trash in /usr/local/lib/python3.6/dist-packages (from notebook>=4.4.1->widgetsnbextension~=3.5.0->ipywidgets>=7.0.0->swifter) (1.5.0)\n",
            "Requirement already satisfied: terminado>=0.8.1 in /usr/local/lib/python3.6/dist-packages (from notebook>=4.4.1->widgetsnbextension~=3.5.0->ipywidgets>=7.0.0->swifter) (0.8.3)\n",
            "Requirement already satisfied: ptyprocess>=0.5 in /usr/local/lib/python3.6/dist-packages (from pexpect; sys_platform != \"win32\"->ipython>=4.0.0; python_version >= \"3.3\"->ipywidgets>=7.0.0->swifter) (0.6.0)\n",
            "Requirement already satisfied: wcwidth in /usr/local/lib/python3.6/dist-packages (from prompt-toolkit<2.0.0,>=1.0.4->ipython>=4.0.0; python_version >= \"3.3\"->ipywidgets>=7.0.0->swifter) (0.2.5)\n",
            "Requirement already satisfied: pyzmq>=13 in /usr/local/lib/python3.6/dist-packages (from jupyter-client->ipykernel>=4.5.1->ipywidgets>=7.0.0->swifter) (19.0.2)\n",
            "Requirement already satisfied: heapdict in /usr/local/lib/python3.6/dist-packages (from zict>=0.1.3->distributed>=2.0; extra == \"complete\"->dask[complete]>=0.19.0->swifter) (1.0.1)\n",
            "Requirement already satisfied: immutables>=0.9 in /usr/local/lib/python3.6/dist-packages (from contextvars; python_version < \"3.7\"->distributed>=2.0; extra == \"complete\"->dask[complete]>=0.19.0->swifter) (0.14)\n",
            "Requirement already satisfied: MarkupSafe>=0.23 in /usr/local/lib/python3.6/dist-packages (from Jinja2>=2.7->bokeh>=1.0.0; extra == \"complete\"->dask[complete]>=0.19.0->swifter) (1.1.1)\n",
            "Requirement already satisfied: beautifulsoup4 in /usr/local/lib/python3.6/dist-packages (from google->ray==0.8.6; extra == \"ray\"->modin[ray]>=0.7.4->swifter) (4.6.3)\n",
            "Requirement already satisfied: chardet<4.0,>=2.0 in /usr/local/lib/python3.6/dist-packages (from aiohttp->ray==0.8.6; extra == \"ray\"->modin[ray]>=0.7.4->swifter) (3.0.4)\n",
            "Requirement already satisfied: async-timeout<4.0,>=3.0 in /usr/local/lib/python3.6/dist-packages (from aiohttp->ray==0.8.6; extra == \"ray\"->modin[ray]>=0.7.4->swifter) (3.0.1)\n",
            "Requirement already satisfied: multidict<5.0,>=4.5 in /usr/local/lib/python3.6/dist-packages (from aiohttp->ray==0.8.6; extra == \"ray\"->modin[ray]>=0.7.4->swifter) (4.7.6)\n",
            "Requirement already satisfied: attrs>=17.3.0 in /usr/local/lib/python3.6/dist-packages (from aiohttp->ray==0.8.6; extra == \"ray\"->modin[ray]>=0.7.4->swifter) (19.3.0)\n",
            "Requirement already satisfied: yarl<2.0,>=1.0 in /usr/local/lib/python3.6/dist-packages (from aiohttp->ray==0.8.6; extra == \"ray\"->modin[ray]>=0.7.4->swifter) (1.5.1)\n",
            "Requirement already satisfied: idna-ssl>=1.0; python_version < \"3.7\" in /usr/local/lib/python3.6/dist-packages (from aiohttp->ray==0.8.6; extra == \"ray\"->modin[ray]>=0.7.4->swifter) (1.1.0)\n",
            "Requirement already satisfied: pandocfilters>=1.4.1 in /usr/local/lib/python3.6/dist-packages (from nbconvert->notebook>=4.4.1->widgetsnbextension~=3.5.0->ipywidgets>=7.0.0->swifter) (1.4.2)\n",
            "Requirement already satisfied: testpath in /usr/local/lib/python3.6/dist-packages (from nbconvert->notebook>=4.4.1->widgetsnbextension~=3.5.0->ipywidgets>=7.0.0->swifter) (0.4.4)\n",
            "Requirement already satisfied: defusedxml in /usr/local/lib/python3.6/dist-packages (from nbconvert->notebook>=4.4.1->widgetsnbextension~=3.5.0->ipywidgets>=7.0.0->swifter) (0.6.0)\n",
            "Requirement already satisfied: entrypoints>=0.2.2 in /usr/local/lib/python3.6/dist-packages (from nbconvert->notebook>=4.4.1->widgetsnbextension~=3.5.0->ipywidgets>=7.0.0->swifter) (0.3)\n",
            "Requirement already satisfied: mistune<2,>=0.8.1 in /usr/local/lib/python3.6/dist-packages (from nbconvert->notebook>=4.4.1->widgetsnbextension~=3.5.0->ipywidgets>=7.0.0->swifter) (0.8.4)\n",
            "Requirement already satisfied: idna>=2.0 in /usr/local/lib/python3.6/dist-packages (from yarl<2.0,>=1.0->aiohttp->ray==0.8.6; extra == \"ray\"->modin[ray]>=0.7.4->swifter) (2.10)\n"
          ],
          "name": "stdout"
        }
      ]
    },
    {
      "cell_type": "code",
      "metadata": {
        "id": "ANrMjzQi7so8",
        "colab_type": "code",
        "colab": {}
      },
      "source": [
        "import pandas as pd\n",
        "import swifter"
      ],
      "execution_count": 2,
      "outputs": []
    },
    {
      "cell_type": "code",
      "metadata": {
        "id": "SIETreVp7spT",
        "colab_type": "code",
        "colab": {}
      },
      "source": [
        "from sklearn.pipeline import make_pipeline\n",
        "from sklearn.model_selection import GridSearchCV"
      ],
      "execution_count": 3,
      "outputs": []
    },
    {
      "cell_type": "code",
      "metadata": {
        "id": "XIBCfP6QT7NV",
        "colab_type": "code",
        "colab": {}
      },
      "source": [
        "# from src.utils import optimizing_df, postfilter_items\n",
        "# from src.metrics import money_precision_at_k\n",
        "# from src.pipeline import AlsEstimator, ColumnSelector, PrefilterItems, RandomEstimator"
      ],
      "execution_count": 4,
      "outputs": []
    },
    {
      "cell_type": "markdown",
      "metadata": {
        "id": "sOGQh6F7JsyD",
        "colab_type": "text"
      },
      "source": [
        "### src"
      ]
    },
    {
      "cell_type": "markdown",
      "metadata": {
        "id": "8EGWFJ-2UDSY",
        "colab_type": "text"
      },
      "source": [
        "#### \u0007metrics.py\n"
      ]
    },
    {
      "cell_type": "code",
      "metadata": {
        "id": "vRerVAE8mfTs",
        "colab_type": "code",
        "colab": {}
      },
      "source": [
        "def money_precision_at_k(y_pred: pd.Series, y_true: pd.Series, item_price, k=5):\n",
        "    y_pred = y_pred.swifter.progress_bar(False).apply(pd.Series)\n",
        "    user_filter = ~(y_true.swifter.progress_bar(False).apply(len) < k)\n",
        "\n",
        "    y_pred = y_pred.loc[user_filter]\n",
        "    y_true = y_true.loc[user_filter]\n",
        "\n",
        "    prices_recommended = y_pred.swifter.progress_bar(False).applymap(lambda item: item_price.price.get(item))\n",
        "    flags = y_pred.loc[:, :k - 1].swifter.progress_bar(False) \\\n",
        "        .apply(lambda row: np.isin(np.array(row), y_true.get(row.name)), axis=1) \\\n",
        "        .swifter.progress_bar(False).apply(pd.Series)\n",
        "\n",
        "    metric = (\n",
        "        (flags * prices_recommended.loc[:, :k - 1]).sum(axis=1) / prices_recommended.loc[:, :k - 1].sum(axis=1)\n",
        "    ).mean()\n",
        "    return metric"
      ],
      "execution_count": 5,
      "outputs": []
    },
    {
      "cell_type": "markdown",
      "metadata": {
        "id": "tGtVmWvFUY-6",
        "colab_type": "text"
      },
      "source": [
        "#### \u0007utils.py"
      ]
    },
    {
      "cell_type": "code",
      "metadata": {
        "id": "X1sLROCgJNhR",
        "colab_type": "code",
        "colab": {}
      },
      "source": [
        "import pandas as pd\n",
        "import swifter\n",
        "import numpy as np\n",
        "\n",
        "\n",
        "def optimizing_df(df, silent=False, width_line=100):\n",
        "    assert isinstance(df, pd.DataFrame), 'This is not a dataframe'\n",
        "\n",
        "    if not silent:\n",
        "        start_memory_usage = df.memory_usage(deep=True).sum() / 1024**2\n",
        "        print('Start of dataframe memory optimization'.center(width_line, '*'))\n",
        "        print(f'Memory usage by dataframe: {start_memory_usage:.02f} MB')\n",
        "\n",
        "    df_dtype = pd.DataFrame(df.dtypes, columns=['dtype'], index=df.columns)\n",
        "\n",
        "    df_dtype['min'] = df.select_dtypes(['int', 'float']).min()\n",
        "    df_dtype['max'] = df.select_dtypes(['int', 'float']).max()\n",
        "    df_dtype['is_int'] = ~(df.select_dtypes(['int', 'float']).fillna(0).astype(int) - df.select_dtypes(['int', 'float']).fillna(0)).sum().astype('bool_')\n",
        "\n",
        "    df_dtype.loc[(df_dtype['is_int'] == True), 'dtype'] = 'int64'\n",
        "    df_dtype.loc[(df_dtype['is_int'] == True) & (df_dtype['min'] >= np.iinfo('int32').min) & (df_dtype['max'] <= np.iinfo('int32').max), 'dtype'] = 'int32'\n",
        "    df_dtype.loc[(df_dtype['is_int'] == True) & (df_dtype['min'] >= np.iinfo('int16').min) & (df_dtype['max'] <= np.iinfo('int16').max), 'dtype'] = 'int16'\n",
        "    df_dtype.loc[(df_dtype['is_int'] == True) & (df_dtype['min'] >= np.iinfo('int8').min) & (df_dtype['max'] <= np.iinfo('int8').max), 'dtype'] = 'int8'\n",
        "\n",
        "    df_dtype.loc[(df_dtype['is_int'] == True) & (df_dtype['min'] >= np.iinfo('uint64').min) ,'dtype'] = 'uint64'\n",
        "    df_dtype.loc[(df_dtype['is_int'] == True) & (df_dtype['min'] >= np.iinfo('uint32').min) & (df_dtype['max'] <= np.iinfo('uint32').max), 'dtype'] = 'uint32'\n",
        "    df_dtype.loc[(df_dtype['is_int'] == True) & (df_dtype['min'] >= np.iinfo('uint16').min) & (df_dtype['max'] <= np.iinfo('uint16').max), 'dtype'] = 'uint16'\n",
        "    df_dtype.loc[(df_dtype['is_int'] == True) & (df_dtype['min'] >= np.iinfo('uint8').min) & (df_dtype['max'] <= np.iinfo('uint8').max), 'dtype'] = 'uint8'\n",
        "\n",
        "    df_dtype.loc[(df_dtype['is_int'] == True) & (df_dtype['min'] == 0) & (df_dtype['max'] == 1),'dtype'] = 'bool_'\n",
        "\n",
        "    df_dtype.loc[(df_dtype['is_int'] == False), 'dtype'] = 'float64'\n",
        "    df_dtype.loc[(df_dtype['is_int'] == False) & (df_dtype['min'] >= np.finfo('float32').min) & (df_dtype['max'] <= np.finfo('float32').max), 'dtype'] = 'float32'\n",
        "\n",
        "    for col in df.select_dtypes('object').columns:\n",
        "        num_unique_values = df[col].nunique()\n",
        "        num_total_values = df[col].count()\n",
        "        if num_unique_values / num_total_values < 0.5:\n",
        "            df_dtype.loc[col, 'dtype'] = 'category'\n",
        "\n",
        "    dtypes = df_dtype['dtype'].to_dict()\n",
        "\n",
        "    df = df.astype(dtypes)\n",
        "\n",
        "    if not silent:\n",
        "        memory_usage = df.memory_usage(deep=True).sum() / 1024**2\n",
        "        print('MEMORY USAGE AFTER COMPLETION:'.center(width_line, '_'))\n",
        "        print(f'Memory usage of properties dataframe is : {memory_usage:.02f} MB')\n",
        "        print(f'This is {100 * memory_usage / start_memory_usage:.02f} % of the initial size')\n",
        "    return df\n",
        "\n",
        "\n",
        "def postfilter_items(recommendations, item_info=None, user_history=None, n_rec=5, n_new=2, n_exp=1, price_lte=7):\n",
        "    recommendations = recommendations.swifter.progress_bar(False).apply(pd.Series)\n",
        "\n",
        "    mask_unique = recommendations.swifter.progress_bar(False) \\\n",
        "        .apply(lambda row: ~pd.Series(row).duplicated(), axis=1)\n",
        "\n",
        "    mask_sub_commodity = recommendations.fillna(item_info.index.max() + 1) \\\n",
        "        .swifter.progress_bar(False) \\\n",
        "        .applymap(lambda item: item_info.SUB_COMMODITY_DESC.get(item)) \\\n",
        "        .swifter.progress_bar(False) \\\n",
        "        .apply(lambda row: ~pd.Series(row).duplicated(), axis=1)\n",
        "\n",
        "    mask = mask_unique & mask_sub_commodity\n",
        "\n",
        "    recommendations = recommendations.where(mask) \\\n",
        "        .swifter.progress_bar(False) \\\n",
        "        .apply(lambda row: np.array(row), axis=1) \\\n",
        "        .swifter.progress_bar(False) \\\n",
        "        .apply(lambda item: item[~np.isnan(item)]) \\\n",
        "        .swifter.progress_bar(False) \\\n",
        "        .apply(pd.Series)\n",
        "    if user_history is not None:\n",
        "        rec_new = recommendations.fillna(user_history.index.max() + 1) \\\n",
        "            .swifter.progress_bar(False) \\\n",
        "            .apply(lambda row: ~np.isin(np.array(row), user_history.get(row.name)), axis=1) \\\n",
        "            .swifter.progress_bar(False).apply(pd.Series)\n",
        "        rec_new_filter = rec_new.loc[rec_new.loc[:, :n_rec - 1].sum(axis=1) < n_new]\n",
        "        mask_new = rec_new_filter.swifter.progress_bar(False) \\\n",
        "            .apply(lambda row: postfilter_for_item(row, n=n_new, n_rec=n_rec), axis=1).swifter \\\n",
        "            .progress_bar(False).apply(pd.Series)\n",
        "        recommendations.loc[mask_new.index] = recommendations.loc[mask_new.index].where(mask_new.apply(pd.Series))\n",
        "        recommendations = recommendations.swifter.progress_bar(False) \\\n",
        "            .apply(lambda row: np.array(row), axis=1) \\\n",
        "            .swifter.progress_bar(False).apply(lambda item: item[~np.isnan(item)]) \\\n",
        "            .swifter.progress_bar(False).apply(pd.Series)\n",
        "    if item_info is not None:\n",
        "        rec_exp = recommendations.fillna(item_info.index.max() + 1) \\\n",
        "            .swifter.progress_bar(False).applymap(lambda item: item_info.price.get(item))\n",
        "        rec_exp_filter = rec_exp.loc[(rec_exp.loc[:, :n_rec - 1] >= price_lte).sum(axis=1) < n_exp]\n",
        "        mask_exp = rec_exp_filter.swifter.progress_bar(False) \\\n",
        "            .apply(lambda row: postfilter_for_item(row, n=n_exp, n_rec=n_rec), axis=1) \\\n",
        "            .swifter.progress_bar(False).apply(pd.Series)\n",
        "        recommendations.loc[mask_exp.index] = recommendations.loc[mask_exp.index] \\\n",
        "            .where(mask_exp.apply(pd.Series))\n",
        "        recommendations = recommendations.swifter.progress_bar(False) \\\n",
        "            .apply(lambda row: np.array(row, dtype='uint'), axis=1) \\\n",
        "            .swifter.progress_bar(False).apply(lambda item: item[~np.isnan(item)]) \\\n",
        "            .swifter.progress_bar(False).apply(pd.Series)\n",
        "\n",
        "    recommendations = recommendations.loc[:, :n_rec - 1].swifter.progress_bar(False) \\\n",
        "        .apply(lambda row: np.array(row), axis=1)\n",
        "    return recommendations\n",
        "\n",
        "\n",
        "def postfilter_for_item(items_mask, n=2, n_rec=5):\n",
        "    mask = np.ones(len(items_mask), dtype=bool)\n",
        "    n = n - items_mask[:n_rec].sum()\n",
        "    n_low = n\n",
        "    for index, item in enumerate(np.flip(items_mask[:n_rec])):\n",
        "        if not item:\n",
        "            mask[n_rec - index - 1] = False\n",
        "            n_low -= 1\n",
        "        if not n_low:\n",
        "            break\n",
        "    n_high = n\n",
        "    for index, item in enumerate(items_mask[n_rec:]):\n",
        "        if not item:\n",
        "            mask[n_rec + index] = False\n",
        "        else:\n",
        "            n_high -= 1\n",
        "        if not n_high:\n",
        "            break\n",
        "    return mask"
      ],
      "execution_count": 6,
      "outputs": []
    },
    {
      "cell_type": "markdown",
      "metadata": {
        "id": "OW-KAYucU2UN",
        "colab_type": "text"
      },
      "source": [
        "#### \u0007pipeline.py"
      ]
    },
    {
      "cell_type": "code",
      "metadata": {
        "id": "Jthgk5NAaa9j",
        "colab_type": "code",
        "colab": {}
      },
      "source": [
        "import pandas as pd\n",
        "import numpy as np\n",
        "from implicit.als import AlternatingLeastSquares\n",
        "from implicit.nearest_neighbours import ItemItemRecommender\n",
        "from implicit.nearest_neighbours import bm25_weight\n",
        "from scipy.sparse import csr_matrix\n",
        "from sklearn.base import BaseEstimator, TransformerMixin\n",
        "\n",
        "\n",
        "class ColumnSelector(TransformerMixin):\n",
        "    def __init__(self, columns):\n",
        "        self.columns = columns\n",
        "\n",
        "    def fit(self, X, y=None):\n",
        "        return self\n",
        "\n",
        "    def transform(self, X, y=None):\n",
        "        assert isinstance(X, pd.DataFrame), 'This is not a dataframe'\n",
        "        try:\n",
        "            return X[self.columns]\n",
        "        except KeyError:\n",
        "            cols_error = list(set(self.columns) - set(X.columns))\n",
        "            raise KeyError(f'DataFrame does not contain the following columns: {cols_error}')\n",
        "\n",
        "\n",
        "class PrefilterItems(TransformerMixin, BaseEstimator):\n",
        "    def __init__(\n",
        "            self, take_n_popular=5000, item_features=None,\n",
        "            filter_item_id=-99, n_last_week=52, price_low=2, price_high=50\n",
        "    ):\n",
        "\n",
        "        self.take_n_popular = take_n_popular\n",
        "        self.item_features = item_features\n",
        "        self.filter_item_id = filter_item_id\n",
        "        self.n_last_week = n_last_week\n",
        "        self.price_low = price_low\n",
        "        self.price_high = price_high\n",
        "\n",
        "    def _reset(self):\n",
        "        if hasattr(self, 'is_fit_'):\n",
        "            del self.is_fit_\n",
        "\n",
        "    def fit(self, X, items=None):\n",
        "        self._reset\n",
        "        return self\n",
        "\n",
        "    def transform(self, X, items=None):\n",
        "        if not hasattr(self, 'is_fit_'):\n",
        "            assert isinstance(X, pd.DataFrame), 'This is not a dataframe'\n",
        "            # Уберем самые популярные товары (их и так купят)\n",
        "            popularity = X.groupby('item_id')['user_id'].nunique().reset_index() / X['user_id'].nunique()\n",
        "            popularity.rename(columns={'user_id': 'share_unique_users'}, inplace=True)\n",
        "\n",
        "            top_popular = popularity[popularity['share_unique_users'] > 0.2].item_id.tolist()\n",
        "            X = X[~X['item_id'].isin(top_popular)]\n",
        "            # Уберем самые НЕ популярные товары (их и так НЕ купят)\n",
        "            top_notpopular = popularity[popularity['share_unique_users'] < 0.02].item_id.tolist()\n",
        "            X = X[~X['item_id'].isin(top_notpopular)]\n",
        "            # Уберем товары, которые не продавались за последние n недель\n",
        "            last_time = X.week_no.max() - self.n_last_week\n",
        "            X = X.loc[X.item_id.isin(X.loc[X.week_no > last_time, 'item_id'])]\n",
        "            # Уберем не интересные для рекоммендаций категории (department)\n",
        "            if self.item_features is not None:\n",
        "                department_size = self.item_features.groupby('DEPARTMENT')['PRODUCT_ID'] \\\n",
        "                    .nunique().sort_values(ascending=False).rename('n_items')\n",
        "                rare_departments = department_size[department_size > 150].index.tolist()\n",
        "                items_in_rare_departments = self.item_features.loc[self.item_features['DEPARTMENT']\n",
        "                                                                   .isin(rare_departments)]['PRODUCT_ID'].unique().tolist()\n",
        "                X = X.loc[X.item_id.isin(items_in_rare_departments)]\n",
        "            # Уберем слишком дешевые товары (на них не заработаем). 1 покупка из рассылок стоит 60 руб.\n",
        "            X = X[X['price'] > self.price_low]\n",
        "            # Уберем слишком дорогие товары\n",
        "            X = X[X['price'] < self.price_high]\n",
        "            # Возьмем топ по популярности\n",
        "            popularity = X.groupby('item_id')['quantity'].sum().reset_index()\n",
        "            popularity.rename(columns={'quantity': 'n_sold'}, inplace=True)\n",
        "\n",
        "            top = popularity.sort_values('n_sold', ascending=False)[: self.take_n_popular].item_id.tolist()\n",
        "            # Заведем фиктивный item_id (если юзер покупал товары из топ-n, то он \"купил\" такой товар)\n",
        "            X.loc[~X['item_id'].isin(top), 'item_id'] = self.filter_item_id\n",
        "            self.is_fit_ = True\n",
        "\n",
        "        return X\n",
        "\n",
        "\n",
        "class RandomEstimator(TransformerMixin, BaseEstimator):\n",
        "    def __init__(\n",
        "        self, n_rec=5, n_rec_pre=100, n_new=2, n_exp=1, price_lte=7,\n",
        "        filter_item_id=-99, filter=True, filter_post=True,\n",
        "        postfilter_func=None, random_state=42\n",
        "    ):\n",
        "\n",
        "        self.n_rec = n_rec\n",
        "        self.n_rec_pre = n_rec_pre\n",
        "        self.n_new = n_new\n",
        "        self.n_exp = n_exp\n",
        "        self.price_lte = price_lte\n",
        "        self.filter_item_id = filter_item_id\n",
        "        self.filter = filter\n",
        "        self.filter_post = filter_post\n",
        "        self.postfilter_func = postfilter_func\n",
        "        self.random_state = random_state\n",
        "\n",
        "    def _reset(self):\n",
        "        if hasattr(self, 'items'):\n",
        "            del self.items\n",
        "        if hasattr(self, 'item_info'):\n",
        "            del self.item_info\n",
        "        if hasattr(self, 'user_history'):\n",
        "            del self.user_history\n",
        "\n",
        "    def fit(self, X, items=None):\n",
        "        self._reset()\n",
        "        self.items = X.item_id.unique()\n",
        "        self.item_info = X.groupby('item_id').agg({'price': 'max', 'SUB_COMMODITY_DESC': 'first'})\n",
        "        self.user_history = pd.DataFrame(X.groupby('user_id').item_id.unique().rename('history'))\n",
        "\n",
        "        if items is not None:\n",
        "            self.items = items\n",
        "        else:\n",
        "            self.items = X.item_id.unique()\n",
        "        if self.filter:\n",
        "            self.items = self.items[np.where(self.items != self.filter_item_id)]\n",
        "        return self\n",
        "\n",
        "    def transform(self, X):\n",
        "        X = X['user_id'].drop_duplicates()\n",
        "        return X\n",
        "\n",
        "    def predict(self, X):\n",
        "        X = self.transform(X)\n",
        "\n",
        "        if self.filter_post:\n",
        "            n_rec = self.n_rec_pre\n",
        "        else:\n",
        "            n_rec = self.n_rec\n",
        "\n",
        "        rec = X.swifter.progress_bar(False).apply(lambda x: self._random_recommendation(n_rec))\n",
        "        rec.index = X.values\n",
        "\n",
        "        if self.postfilter_func is not None and self.filter_post:\n",
        "            rec = self.postfilter_func(\n",
        "                rec,\n",
        "                item_info=self.item_info,\n",
        "                user_history=self.user_history,\n",
        "                n_rec=self.n_rec,\n",
        "                n_new=self.n_new,\n",
        "                n_exp=self.n_exp,\n",
        "                price_lte=self.price_lte,\n",
        "            )\n",
        "\n",
        "        assert (rec.swifter.progress_bar(False).apply(len) == self.n_rec).all(), f'The number of recommendations is not equal {self.n_rec}.'\n",
        "\n",
        "        return rec\n",
        "\n",
        "    def _random_recommendation(self, n_rec):\n",
        "        np.random.seed(self.random_state)\n",
        "        recs = np.random.choice(self.items, size=n_rec, replace=False, )\n",
        "        return recs\n",
        "\n",
        "\n",
        "class AlsEstimator(TransformerMixin, BaseEstimator):\n",
        "    def __init__(\n",
        "            self, recommendations='als', n_rec=5, n_rec_pre=100, n_new=2,\n",
        "            n_exp=1, price_lte=7, filter_item_id=-99, filter=True, filter_post=True,\n",
        "            postfilter_func=None, factors=50, regularization=0.01,\n",
        "            iterations=10, matrix_values='quantity', matrix_aggfunc='count',\n",
        "            weighting=True, use_native=True, use_gpu=False\n",
        "    ):\n",
        "\n",
        "        self.n_rec = n_rec\n",
        "        self.n_rec_pre = n_rec_pre\n",
        "        self.n_new = n_new\n",
        "        self.n_exp = n_exp\n",
        "        self.price_lte = price_lte\n",
        "        self.filter_item_id = filter_item_id\n",
        "        self.filter = filter\n",
        "        self.filter_post = filter_post\n",
        "        self.postfilter_func = postfilter_func\n",
        "\n",
        "        self.factors = factors\n",
        "        self.regularization = regularization\n",
        "        self.iterations = iterations\n",
        "        self.matrix_values = matrix_values\n",
        "        self.matrix_aggfunc = matrix_aggfunc\n",
        "        self.recommendations = recommendations\n",
        "        self.weighting = True\n",
        "\n",
        "        self.use_native = use_native\n",
        "        self.use_gpu = use_gpu\n",
        "\n",
        "    def _reset(self):\n",
        "        if hasattr(self, 'item_info'):\n",
        "            del self.item_info\n",
        "        if hasattr(self, 'user_history'):\n",
        "            del self.user_history\n",
        "        if hasattr(self, 'top_purchases'):\n",
        "            del self.top_purchases\n",
        "        if hasattr(self, 'overall_top_purchases'):\n",
        "            del self.overall_top_purchases\n",
        "        if hasattr(self, 'user_item_matrix'):\n",
        "            del self.user_item_matrix\n",
        "        if hasattr(self, 'id_to_itemid'):\n",
        "            del self.id_to_itemid\n",
        "        if hasattr(self, 'id_to_userid'):\n",
        "            del self.id_to_userid\n",
        "        if hasattr(self, 'itemid_to_id'):\n",
        "            del self.itemid_to_id\n",
        "        if hasattr(self, 'userid_to_id'):\n",
        "            del self.userid_to_id\n",
        "        if hasattr(self, '_fit'):\n",
        "            del self._fit\n",
        "\n",
        "    @staticmethod\n",
        "    def _prepare_matrix(data: pd.DataFrame, values: str, aggfunc: str):\n",
        "        \"\"\"Готовит user-item матрицу\"\"\"\n",
        "        user_item_matrix = pd.pivot_table(data,\n",
        "                                          index='user_id', columns='item_id',\n",
        "                                          values=values,\n",
        "                                          aggfunc=aggfunc,\n",
        "                                          fill_value=0\n",
        "                                          )\n",
        "\n",
        "        user_item_matrix = user_item_matrix.astype(float)\n",
        "\n",
        "        return user_item_matrix\n",
        "\n",
        "    @staticmethod\n",
        "    def _prepare_dicts(user_item_matrix):\n",
        "        \"\"\"Подготавливает вспомогательные словари\"\"\"\n",
        "\n",
        "        userids = user_item_matrix.index.values\n",
        "        itemids = user_item_matrix.columns.values\n",
        "\n",
        "        matrix_userids = np.arange(len(userids))\n",
        "        matrix_itemids = np.arange(len(itemids))\n",
        "\n",
        "        id_to_itemid = dict(zip(matrix_itemids, itemids))\n",
        "        id_to_userid = dict(zip(matrix_userids, userids))\n",
        "\n",
        "        itemid_to_id = dict(zip(itemids, matrix_itemids))\n",
        "        userid_to_id = dict(zip(userids, matrix_userids))\n",
        "\n",
        "        return id_to_itemid, id_to_userid, itemid_to_id, userid_to_id\n",
        "\n",
        "    def fit(self, X, y=None):\n",
        "        self._reset()\n",
        "        self.item_info = X.groupby('item_id').agg({'price': 'max', 'SUB_COMMODITY_DESC': 'first'})\n",
        "        self.user_history = pd.DataFrame(X.groupby('user_id').item_id.unique().rename('history'))\n",
        "\n",
        "        self.top_purchases = X.groupby(['user_id', 'item_id'])['quantity'].count().reset_index()\n",
        "        self.top_purchases.sort_values('quantity', ascending=False, inplace=True)\n",
        "        self.top_purchases = self.top_purchases[self.top_purchases['item_id'] != self.filter_item_id]\n",
        "\n",
        "        # Топ покупок по всему датасету\n",
        "        self.overall_top_purchases = X.groupby('item_id')['quantity'].count().reset_index()\n",
        "        self.overall_top_purchases.sort_values('quantity', ascending=False, inplace=True)\n",
        "        self.overall_top_purchases = self.overall_top_purchases[self.overall_top_purchases['item_id'] != self.filter_item_id]\n",
        "        self.overall_top_purchases = self.overall_top_purchases.item_id.tolist()\n",
        "\n",
        "        self.user_item_matrix = self._prepare_matrix(X, self.matrix_values, self.matrix_aggfunc)\n",
        "\n",
        "        self.id_to_itemid, self.id_to_userid, \\\n",
        "            self.itemid_to_id, self.userid_to_id = self._prepare_dicts(self.user_item_matrix)\n",
        "\n",
        "        if self.weighting:\n",
        "            self.user_item_matrix = bm25_weight(self.user_item_matrix.T).T\n",
        "\n",
        "        self.model = AlternatingLeastSquares(\n",
        "            factors=self.factors,\n",
        "            regularization=self.regularization,\n",
        "            iterations=self.iterations,\n",
        "            dtype=np.float32,\n",
        "            use_native=self.use_native,\n",
        "            use_gpu=self.use_gpu,\n",
        "        )\n",
        "\n",
        "        self.model.fit(csr_matrix(self.user_item_matrix).T.tocsr())\n",
        "\n",
        "        self.model_own_recommender = ItemItemRecommender(K=1)\n",
        "        self.model_own_recommender.fit(csr_matrix(self.user_item_matrix).T.tocsr())\n",
        "\n",
        "        self._fit = True\n",
        "\n",
        "    def transform(self, X):\n",
        "        if self._fit:\n",
        "            X = X['user_id'].drop_duplicates()\n",
        "            X.index = X.values\n",
        "        return X\n",
        "\n",
        "    def _update_dict(self, user_id):\n",
        "        \"\"\"Если появился новыю user / item, то нужно обновить словари\"\"\"\n",
        "\n",
        "        if user_id not in self.userid_to_id.keys():\n",
        "\n",
        "            max_id = max(list(self.userid_to_id.values()))\n",
        "            max_id += 1\n",
        "\n",
        "            self.userid_to_id.update({user_id: max_id})\n",
        "            self.id_to_userid.update({max_id: user_id})\n",
        "\n",
        "    def _get_similar_item(self, item_id):\n",
        "        \"\"\"Находит товар, похожий на item_id\"\"\"\n",
        "        recs = self.model.similar_items(self.itemid_to_id[item_id], N=2)  # Товар похож на себя -> рекомендуем 2 товара\n",
        "        top_rec = recs[1][0]  # И берем второй (не товар из аргумента метода)\n",
        "        return self.id_to_itemid[top_rec]\n",
        "\n",
        "    def _extend_with_top_popular(self, recommendations):\n",
        "        \"\"\"Если кол-во рекоммендаций < N, то дополняем их топ-популярными\"\"\"\n",
        "\n",
        "        if self.filter_post:\n",
        "            n_rec = self.n_rec_pre\n",
        "        else:\n",
        "            n_rec = self.n_rec\n",
        "\n",
        "        if len(recommendations) < n_rec:\n",
        "            recommendations.extend(self.overall_top_purchases[:n_rec])\n",
        "            recommendations = recommendations[:n_rec]\n",
        "\n",
        "        return recommendations\n",
        "\n",
        "    def _get_recommendations(self, user, model):\n",
        "        \"\"\"Рекомендации через стардартные библиотеки implicit\"\"\"\n",
        "        if self.filter_post:\n",
        "            n_rec = self.n_rec_pre\n",
        "        else:\n",
        "            n_rec = self.n_rec\n",
        "\n",
        "        self._update_dict(user_id=user)\n",
        "        try:\n",
        "            res = [self.id_to_itemid[rec[0]] for rec in model.recommend(\n",
        "                userid=self.userid_to_id[user],\n",
        "                user_items=csr_matrix(self.user_item_matrix).tocsr(),\n",
        "                N=n_rec,\n",
        "                filter_already_liked_items=False,\n",
        "                filter_items=[self.itemid_to_id[self.filter_item_id]],\n",
        "                recalculate_user=True\n",
        "            )]\n",
        "        except:\n",
        "            res = list()\n",
        "        finally:\n",
        "            res = self._extend_with_top_popular(res)\n",
        "\n",
        "            assert len(res) == n_rec, 'Количество рекомендаций != {}'.format(n_rec)\n",
        "            return res\n",
        "\n",
        "    def get_als_recommendations(self, user):\n",
        "        \"\"\"Рекомендации через стардартные библиотеки implicit\"\"\"\n",
        "        if self.filter_post:\n",
        "            n_rec = self.n_rec_pre\n",
        "        else:\n",
        "            n_rec = self.n_rec\n",
        "\n",
        "        self._update_dict(user_id=user)\n",
        "        return self._get_recommendations(user, model=self.model)\n",
        "\n",
        "    def get_own_recommendations(self, user):\n",
        "        \"\"\"Рекомендуем товары среди тех, которые юзер уже купил\"\"\"\n",
        "\n",
        "        self._update_dict(user_id=user)\n",
        "        return self._get_recommendations(user, model=self.model_own_recommender)\n",
        "\n",
        "    def get_similar_items_recommendations(self, user):\n",
        "        \"\"\"Рекомендуем товары, похожие на топ-N купленных юзером товаров\"\"\"\n",
        "        if self.filter_post:\n",
        "            n_rec = self.n_rec_pre\n",
        "        else:\n",
        "            n_rec = self.n_rec\n",
        "\n",
        "        top_users_purchases = self.top_purchases[self.top_purchases['user_id'] == user].head(n_rec)\n",
        "\n",
        "        res = top_users_purchases['item_id'].apply(lambda x: self._get_similar_item(x)).tolist()\n",
        "        res = self._extend_with_top_popular(res)\n",
        "\n",
        "        assert len(res) == n_rec, 'Количество рекомендаций != {}'.format(n_rec)\n",
        "        return res\n",
        "\n",
        "    def predict(self, X):\n",
        "        X = self.transform(X)\n",
        "        recommender = getattr(self, f'get_{self.recommendations}_recommendations')\n",
        "\n",
        "        rec = X.swifter.progress_bar(False).apply(lambda item: recommender(user=item))\n",
        "        if self.postfilter_func is not None and self.filter_post:\n",
        "            rec = self.postfilter_func(\n",
        "                rec,\n",
        "                item_info=self.item_info,\n",
        "                user_history=self.user_history,\n",
        "                n_rec=self.n_rec,\n",
        "                n_new=self.n_new,\n",
        "                n_exp=self.n_exp,\n",
        "                price_lte=self.price_lte,\n",
        "            )\n",
        "\n",
        "        assert (rec.swifter.progress_bar(False).apply(len) == self.n_rec).all(), f'The number of recommendations is not equal {self.n_rec}.'\n",
        "\n",
        "        return rec"
      ],
      "execution_count": 63,
      "outputs": []
    },
    {
      "cell_type": "markdown",
      "metadata": {
        "id": "GFSi-fCo7sqL",
        "colab_type": "text"
      },
      "source": [
        "### Settings"
      ]
    },
    {
      "cell_type": "code",
      "metadata": {
        "id": "3Fh60usz7sqN",
        "colab_type": "code",
        "colab": {}
      },
      "source": [
        "RANDOM_STATE=42\n",
        "pd.options.display.float_format = '{:.3f}'.format"
      ],
      "execution_count": 8,
      "outputs": []
    },
    {
      "cell_type": "code",
      "metadata": {
        "id": "K1q3EtiF8SjD",
        "colab_type": "code",
        "colab": {}
      },
      "source": [
        "RETAIL_TRAIN = 'https://d2xzmw6cctk25h.cloudfront.net/asset/2105403/attachment/b70bcdded071f30660fc25f875863ac5.zip'\n",
        "RETAIL_TEST = 'https://d2xzmw6cctk25h.cloudfront.net/asset/2105404/attachment/0303cbb4c877096c5b306a4e5c35f96b.csv'\n",
        "PRODUCT = 'https://d2xzmw6cctk25h.cloudfront.net/asset/2105401/attachment/26981bfce1b672ad9a0684f7ff39bae5.csv'\n",
        "HH_DEMOGRAPHIC = 'https://d2xzmw6cctk25h.cloudfront.net/asset/2105400/attachment/bd91ad23de8c24c14f3ff3c6061edb0c.csv'"
      ],
      "execution_count": 9,
      "outputs": []
    },
    {
      "cell_type": "markdown",
      "metadata": {
        "id": "7LIpfqyM7sqq",
        "colab_type": "text"
      },
      "source": [
        "### Load data"
      ]
    },
    {
      "cell_type": "code",
      "metadata": {
        "id": "1twvgRWA7sqt",
        "colab_type": "code",
        "colab": {}
      },
      "source": [
        "data = pd.read_csv(RETAIL_TRAIN)\n",
        "data_valid = pd.read_csv(RETAIL_TEST)\n",
        "item_features = pd.read_csv(PRODUCT)\n",
        "user_features = pd.read_csv(HH_DEMOGRAPHIC)"
      ],
      "execution_count": 10,
      "outputs": []
    },
    {
      "cell_type": "markdown",
      "metadata": {
        "id": "mnca9Fnp7srj",
        "colab_type": "text"
      },
      "source": [
        "<a id=explore></a>\n",
        "## Exploratory Data Analysis"
      ]
    },
    {
      "cell_type": "code",
      "metadata": {
        "id": "KS_Y8azm7srm",
        "colab_type": "code",
        "colab": {
          "base_uri": "https://localhost:8080/",
          "height": 206
        },
        "outputId": "07223858-2387-47c1-c1a7-3e3070ccdfdc"
      },
      "source": [
        "data.head()"
      ],
      "execution_count": 11,
      "outputs": [
        {
          "output_type": "execute_result",
          "data": {
            "text/html": [
              "<div>\n",
              "<style scoped>\n",
              "    .dataframe tbody tr th:only-of-type {\n",
              "        vertical-align: middle;\n",
              "    }\n",
              "\n",
              "    .dataframe tbody tr th {\n",
              "        vertical-align: top;\n",
              "    }\n",
              "\n",
              "    .dataframe thead th {\n",
              "        text-align: right;\n",
              "    }\n",
              "</style>\n",
              "<table border=\"1\" class=\"dataframe\">\n",
              "  <thead>\n",
              "    <tr style=\"text-align: right;\">\n",
              "      <th></th>\n",
              "      <th>user_id</th>\n",
              "      <th>basket_id</th>\n",
              "      <th>day</th>\n",
              "      <th>item_id</th>\n",
              "      <th>quantity</th>\n",
              "      <th>sales_value</th>\n",
              "      <th>store_id</th>\n",
              "      <th>retail_disc</th>\n",
              "      <th>trans_time</th>\n",
              "      <th>week_no</th>\n",
              "      <th>coupon_disc</th>\n",
              "      <th>coupon_match_disc</th>\n",
              "    </tr>\n",
              "  </thead>\n",
              "  <tbody>\n",
              "    <tr>\n",
              "      <th>0</th>\n",
              "      <td>2375</td>\n",
              "      <td>26984851472</td>\n",
              "      <td>1</td>\n",
              "      <td>1004906</td>\n",
              "      <td>1</td>\n",
              "      <td>1.390</td>\n",
              "      <td>364</td>\n",
              "      <td>-0.600</td>\n",
              "      <td>1631</td>\n",
              "      <td>1</td>\n",
              "      <td>0.000</td>\n",
              "      <td>0.000</td>\n",
              "    </tr>\n",
              "    <tr>\n",
              "      <th>1</th>\n",
              "      <td>2375</td>\n",
              "      <td>26984851472</td>\n",
              "      <td>1</td>\n",
              "      <td>1033142</td>\n",
              "      <td>1</td>\n",
              "      <td>0.820</td>\n",
              "      <td>364</td>\n",
              "      <td>0.000</td>\n",
              "      <td>1631</td>\n",
              "      <td>1</td>\n",
              "      <td>0.000</td>\n",
              "      <td>0.000</td>\n",
              "    </tr>\n",
              "    <tr>\n",
              "      <th>2</th>\n",
              "      <td>2375</td>\n",
              "      <td>26984851472</td>\n",
              "      <td>1</td>\n",
              "      <td>1036325</td>\n",
              "      <td>1</td>\n",
              "      <td>0.990</td>\n",
              "      <td>364</td>\n",
              "      <td>-0.300</td>\n",
              "      <td>1631</td>\n",
              "      <td>1</td>\n",
              "      <td>0.000</td>\n",
              "      <td>0.000</td>\n",
              "    </tr>\n",
              "    <tr>\n",
              "      <th>3</th>\n",
              "      <td>2375</td>\n",
              "      <td>26984851472</td>\n",
              "      <td>1</td>\n",
              "      <td>1082185</td>\n",
              "      <td>1</td>\n",
              "      <td>1.210</td>\n",
              "      <td>364</td>\n",
              "      <td>0.000</td>\n",
              "      <td>1631</td>\n",
              "      <td>1</td>\n",
              "      <td>0.000</td>\n",
              "      <td>0.000</td>\n",
              "    </tr>\n",
              "    <tr>\n",
              "      <th>4</th>\n",
              "      <td>2375</td>\n",
              "      <td>26984851472</td>\n",
              "      <td>1</td>\n",
              "      <td>8160430</td>\n",
              "      <td>1</td>\n",
              "      <td>1.500</td>\n",
              "      <td>364</td>\n",
              "      <td>-0.390</td>\n",
              "      <td>1631</td>\n",
              "      <td>1</td>\n",
              "      <td>0.000</td>\n",
              "      <td>0.000</td>\n",
              "    </tr>\n",
              "  </tbody>\n",
              "</table>\n",
              "</div>"
            ],
            "text/plain": [
              "   user_id    basket_id  day  ...  week_no  coupon_disc  coupon_match_disc\n",
              "0     2375  26984851472    1  ...        1        0.000              0.000\n",
              "1     2375  26984851472    1  ...        1        0.000              0.000\n",
              "2     2375  26984851472    1  ...        1        0.000              0.000\n",
              "3     2375  26984851472    1  ...        1        0.000              0.000\n",
              "4     2375  26984851472    1  ...        1        0.000              0.000\n",
              "\n",
              "[5 rows x 12 columns]"
            ]
          },
          "metadata": {
            "tags": []
          },
          "execution_count": 11
        }
      ]
    },
    {
      "cell_type": "code",
      "metadata": {
        "id": "PnAuvSQB7sr4",
        "colab_type": "code",
        "colab": {
          "base_uri": "https://localhost:8080/",
          "height": 423
        },
        "outputId": "f639ec85-3cc5-495c-bd55-463fd50838c7"
      },
      "source": [
        "data.info()"
      ],
      "execution_count": 12,
      "outputs": [
        {
          "output_type": "stream",
          "text": [
            "<class 'pandas.core.frame.DataFrame'>\n",
            "RangeIndex: 2396804 entries, 0 to 2396803\n",
            "Data columns (total 12 columns):\n",
            " #   Column             Dtype  \n",
            "---  ------             -----  \n",
            " 0   user_id            int64  \n",
            " 1   basket_id          int64  \n",
            " 2   day                int64  \n",
            " 3   item_id            int64  \n",
            " 4   quantity           int64  \n",
            " 5   sales_value        float64\n",
            " 6   store_id           int64  \n",
            " 7   retail_disc        float64\n",
            " 8   trans_time         int64  \n",
            " 9   week_no            int64  \n",
            " 10  coupon_disc        float64\n",
            " 11  coupon_match_disc  float64\n",
            "dtypes: float64(4), int64(8)\n",
            "memory usage: 219.4 MB\n"
          ],
          "name": "stdout"
        }
      ]
    },
    {
      "cell_type": "code",
      "metadata": {
        "id": "bwr8FxHk7sr_",
        "colab_type": "code",
        "colab": {
          "base_uri": "https://localhost:8080/",
          "height": 206
        },
        "outputId": "42a2969c-2dbf-4f01-9f10-907f5c5ffc56"
      },
      "source": [
        "item_features.head()"
      ],
      "execution_count": 13,
      "outputs": [
        {
          "output_type": "execute_result",
          "data": {
            "text/html": [
              "<div>\n",
              "<style scoped>\n",
              "    .dataframe tbody tr th:only-of-type {\n",
              "        vertical-align: middle;\n",
              "    }\n",
              "\n",
              "    .dataframe tbody tr th {\n",
              "        vertical-align: top;\n",
              "    }\n",
              "\n",
              "    .dataframe thead th {\n",
              "        text-align: right;\n",
              "    }\n",
              "</style>\n",
              "<table border=\"1\" class=\"dataframe\">\n",
              "  <thead>\n",
              "    <tr style=\"text-align: right;\">\n",
              "      <th></th>\n",
              "      <th>PRODUCT_ID</th>\n",
              "      <th>MANUFACTURER</th>\n",
              "      <th>DEPARTMENT</th>\n",
              "      <th>BRAND</th>\n",
              "      <th>COMMODITY_DESC</th>\n",
              "      <th>SUB_COMMODITY_DESC</th>\n",
              "      <th>CURR_SIZE_OF_PRODUCT</th>\n",
              "    </tr>\n",
              "  </thead>\n",
              "  <tbody>\n",
              "    <tr>\n",
              "      <th>0</th>\n",
              "      <td>25671</td>\n",
              "      <td>2</td>\n",
              "      <td>GROCERY</td>\n",
              "      <td>National</td>\n",
              "      <td>FRZN ICE</td>\n",
              "      <td>ICE - CRUSHED/CUBED</td>\n",
              "      <td>22 LB</td>\n",
              "    </tr>\n",
              "    <tr>\n",
              "      <th>1</th>\n",
              "      <td>26081</td>\n",
              "      <td>2</td>\n",
              "      <td>MISC. TRANS.</td>\n",
              "      <td>National</td>\n",
              "      <td>NO COMMODITY DESCRIPTION</td>\n",
              "      <td>NO SUBCOMMODITY DESCRIPTION</td>\n",
              "      <td></td>\n",
              "    </tr>\n",
              "    <tr>\n",
              "      <th>2</th>\n",
              "      <td>26093</td>\n",
              "      <td>69</td>\n",
              "      <td>PASTRY</td>\n",
              "      <td>Private</td>\n",
              "      <td>BREAD</td>\n",
              "      <td>BREAD:ITALIAN/FRENCH</td>\n",
              "      <td></td>\n",
              "    </tr>\n",
              "    <tr>\n",
              "      <th>3</th>\n",
              "      <td>26190</td>\n",
              "      <td>69</td>\n",
              "      <td>GROCERY</td>\n",
              "      <td>Private</td>\n",
              "      <td>FRUIT - SHELF STABLE</td>\n",
              "      <td>APPLE SAUCE</td>\n",
              "      <td>50 OZ</td>\n",
              "    </tr>\n",
              "    <tr>\n",
              "      <th>4</th>\n",
              "      <td>26355</td>\n",
              "      <td>69</td>\n",
              "      <td>GROCERY</td>\n",
              "      <td>Private</td>\n",
              "      <td>COOKIES/CONES</td>\n",
              "      <td>SPECIALTY COOKIES</td>\n",
              "      <td>14 OZ</td>\n",
              "    </tr>\n",
              "  </tbody>\n",
              "</table>\n",
              "</div>"
            ],
            "text/plain": [
              "   PRODUCT_ID  MANUFACTURER  ...           SUB_COMMODITY_DESC CURR_SIZE_OF_PRODUCT\n",
              "0       25671             2  ...          ICE - CRUSHED/CUBED                22 LB\n",
              "1       26081             2  ...  NO SUBCOMMODITY DESCRIPTION                     \n",
              "2       26093            69  ...         BREAD:ITALIAN/FRENCH                     \n",
              "3       26190            69  ...                  APPLE SAUCE                50 OZ\n",
              "4       26355            69  ...            SPECIALTY COOKIES                14 OZ\n",
              "\n",
              "[5 rows x 7 columns]"
            ]
          },
          "metadata": {
            "tags": []
          },
          "execution_count": 13
        }
      ]
    },
    {
      "cell_type": "code",
      "metadata": {
        "id": "Br9SH6hV7ssI",
        "colab_type": "code",
        "colab": {
          "base_uri": "https://localhost:8080/",
          "height": 316
        },
        "outputId": "4eeb443e-4736-4059-a1b1-f4699166fd03"
      },
      "source": [
        "item_features.info()"
      ],
      "execution_count": 14,
      "outputs": [
        {
          "output_type": "stream",
          "text": [
            "<class 'pandas.core.frame.DataFrame'>\n",
            "RangeIndex: 92353 entries, 0 to 92352\n",
            "Data columns (total 7 columns):\n",
            " #   Column                Non-Null Count  Dtype \n",
            "---  ------                --------------  ----- \n",
            " 0   PRODUCT_ID            92353 non-null  int64 \n",
            " 1   MANUFACTURER          92353 non-null  int64 \n",
            " 2   DEPARTMENT            92353 non-null  object\n",
            " 3   BRAND                 92353 non-null  object\n",
            " 4   COMMODITY_DESC        92353 non-null  object\n",
            " 5   SUB_COMMODITY_DESC    92353 non-null  object\n",
            " 6   CURR_SIZE_OF_PRODUCT  92353 non-null  object\n",
            "dtypes: int64(2), object(5)\n",
            "memory usage: 4.9+ MB\n"
          ],
          "name": "stdout"
        }
      ]
    },
    {
      "cell_type": "code",
      "metadata": {
        "id": "qZgdfNcI7ssP",
        "colab_type": "code",
        "colab": {
          "base_uri": "https://localhost:8080/",
          "height": 206
        },
        "outputId": "335b6990-fbf9-41b3-f636-111a159fbabd"
      },
      "source": [
        "user_features.head()"
      ],
      "execution_count": 15,
      "outputs": [
        {
          "output_type": "execute_result",
          "data": {
            "text/html": [
              "<div>\n",
              "<style scoped>\n",
              "    .dataframe tbody tr th:only-of-type {\n",
              "        vertical-align: middle;\n",
              "    }\n",
              "\n",
              "    .dataframe tbody tr th {\n",
              "        vertical-align: top;\n",
              "    }\n",
              "\n",
              "    .dataframe thead th {\n",
              "        text-align: right;\n",
              "    }\n",
              "</style>\n",
              "<table border=\"1\" class=\"dataframe\">\n",
              "  <thead>\n",
              "    <tr style=\"text-align: right;\">\n",
              "      <th></th>\n",
              "      <th>AGE_DESC</th>\n",
              "      <th>MARITAL_STATUS_CODE</th>\n",
              "      <th>INCOME_DESC</th>\n",
              "      <th>HOMEOWNER_DESC</th>\n",
              "      <th>HH_COMP_DESC</th>\n",
              "      <th>HOUSEHOLD_SIZE_DESC</th>\n",
              "      <th>KID_CATEGORY_DESC</th>\n",
              "      <th>household_key</th>\n",
              "    </tr>\n",
              "  </thead>\n",
              "  <tbody>\n",
              "    <tr>\n",
              "      <th>0</th>\n",
              "      <td>65+</td>\n",
              "      <td>A</td>\n",
              "      <td>35-49K</td>\n",
              "      <td>Homeowner</td>\n",
              "      <td>2 Adults No Kids</td>\n",
              "      <td>2</td>\n",
              "      <td>None/Unknown</td>\n",
              "      <td>1</td>\n",
              "    </tr>\n",
              "    <tr>\n",
              "      <th>1</th>\n",
              "      <td>45-54</td>\n",
              "      <td>A</td>\n",
              "      <td>50-74K</td>\n",
              "      <td>Homeowner</td>\n",
              "      <td>2 Adults No Kids</td>\n",
              "      <td>2</td>\n",
              "      <td>None/Unknown</td>\n",
              "      <td>7</td>\n",
              "    </tr>\n",
              "    <tr>\n",
              "      <th>2</th>\n",
              "      <td>25-34</td>\n",
              "      <td>U</td>\n",
              "      <td>25-34K</td>\n",
              "      <td>Unknown</td>\n",
              "      <td>2 Adults Kids</td>\n",
              "      <td>3</td>\n",
              "      <td>1</td>\n",
              "      <td>8</td>\n",
              "    </tr>\n",
              "    <tr>\n",
              "      <th>3</th>\n",
              "      <td>25-34</td>\n",
              "      <td>U</td>\n",
              "      <td>75-99K</td>\n",
              "      <td>Homeowner</td>\n",
              "      <td>2 Adults Kids</td>\n",
              "      <td>4</td>\n",
              "      <td>2</td>\n",
              "      <td>13</td>\n",
              "    </tr>\n",
              "    <tr>\n",
              "      <th>4</th>\n",
              "      <td>45-54</td>\n",
              "      <td>B</td>\n",
              "      <td>50-74K</td>\n",
              "      <td>Homeowner</td>\n",
              "      <td>Single Female</td>\n",
              "      <td>1</td>\n",
              "      <td>None/Unknown</td>\n",
              "      <td>16</td>\n",
              "    </tr>\n",
              "  </tbody>\n",
              "</table>\n",
              "</div>"
            ],
            "text/plain": [
              "  AGE_DESC MARITAL_STATUS_CODE  ... KID_CATEGORY_DESC household_key\n",
              "0      65+                   A  ...      None/Unknown             1\n",
              "1    45-54                   A  ...      None/Unknown             7\n",
              "2    25-34                   U  ...                 1             8\n",
              "3    25-34                   U  ...                 2            13\n",
              "4    45-54                   B  ...      None/Unknown            16\n",
              "\n",
              "[5 rows x 8 columns]"
            ]
          },
          "metadata": {
            "tags": []
          },
          "execution_count": 15
        }
      ]
    },
    {
      "cell_type": "code",
      "metadata": {
        "id": "DFHo9VUq7ssX",
        "colab_type": "code",
        "colab": {
          "base_uri": "https://localhost:8080/",
          "height": 338
        },
        "outputId": "c85352bc-ab85-4b54-a817-73d2448ca75e"
      },
      "source": [
        "user_features.info()"
      ],
      "execution_count": 16,
      "outputs": [
        {
          "output_type": "stream",
          "text": [
            "<class 'pandas.core.frame.DataFrame'>\n",
            "RangeIndex: 801 entries, 0 to 800\n",
            "Data columns (total 8 columns):\n",
            " #   Column               Non-Null Count  Dtype \n",
            "---  ------               --------------  ----- \n",
            " 0   AGE_DESC             801 non-null    object\n",
            " 1   MARITAL_STATUS_CODE  801 non-null    object\n",
            " 2   INCOME_DESC          801 non-null    object\n",
            " 3   HOMEOWNER_DESC       801 non-null    object\n",
            " 4   HH_COMP_DESC         801 non-null    object\n",
            " 5   HOUSEHOLD_SIZE_DESC  801 non-null    object\n",
            " 6   KID_CATEGORY_DESC    801 non-null    object\n",
            " 7   household_key        801 non-null    int64 \n",
            "dtypes: int64(1), object(7)\n",
            "memory usage: 50.2+ KB\n"
          ],
          "name": "stdout"
        }
      ]
    },
    {
      "cell_type": "code",
      "metadata": {
        "id": "ia6yR0RS7sse",
        "colab_type": "code",
        "colab": {
          "base_uri": "https://localhost:8080/",
          "height": 38
        },
        "outputId": "f13342ba-147c-4171-eeb8-9cca287fe36c"
      },
      "source": [
        "data['week_no'].nunique()"
      ],
      "execution_count": 17,
      "outputs": [
        {
          "output_type": "execute_result",
          "data": {
            "text/plain": [
              "95"
            ]
          },
          "metadata": {
            "tags": []
          },
          "execution_count": 17
        }
      ]
    },
    {
      "cell_type": "code",
      "metadata": {
        "id": "F3dEzjYV7ssn",
        "colab_type": "code",
        "colab": {
          "base_uri": "https://localhost:8080/",
          "height": 81
        },
        "outputId": "94cdbb11-f5fe-4883-fd6e-9c5688f32420"
      },
      "source": [
        "users, items, interactions = data.user_id.nunique(), data.item_id.nunique(), data.shape[0]\n",
        "\n",
        "print(f'# users: {users}')\n",
        "print(f'# items: {items}')\n",
        "print(f'# interactions: {interactions}')"
      ],
      "execution_count": 18,
      "outputs": [
        {
          "output_type": "stream",
          "text": [
            "# users: 2499\n",
            "# items: 89051\n",
            "# interactions: 2396804\n"
          ],
          "name": "stdout"
        }
      ]
    },
    {
      "cell_type": "code",
      "metadata": {
        "id": "YNOA39I07ssz",
        "colab_type": "code",
        "colab": {
          "base_uri": "https://localhost:8080/",
          "height": 300
        },
        "outputId": "4f24e8e9-5bff-4c92-f017-239d2744009d"
      },
      "source": [
        "popularity = data.groupby('item_id')['sales_value'].sum().reset_index()\n",
        "popularity.describe()"
      ],
      "execution_count": 19,
      "outputs": [
        {
          "output_type": "execute_result",
          "data": {
            "text/html": [
              "<div>\n",
              "<style scoped>\n",
              "    .dataframe tbody tr th:only-of-type {\n",
              "        vertical-align: middle;\n",
              "    }\n",
              "\n",
              "    .dataframe tbody tr th {\n",
              "        vertical-align: top;\n",
              "    }\n",
              "\n",
              "    .dataframe thead th {\n",
              "        text-align: right;\n",
              "    }\n",
              "</style>\n",
              "<table border=\"1\" class=\"dataframe\">\n",
              "  <thead>\n",
              "    <tr style=\"text-align: right;\">\n",
              "      <th></th>\n",
              "      <th>item_id</th>\n",
              "      <th>sales_value</th>\n",
              "    </tr>\n",
              "  </thead>\n",
              "  <tbody>\n",
              "    <tr>\n",
              "      <th>count</th>\n",
              "      <td>89051.000</td>\n",
              "      <td>89051.000</td>\n",
              "    </tr>\n",
              "    <tr>\n",
              "      <th>mean</th>\n",
              "      <td>5115771.858</td>\n",
              "      <td>83.458</td>\n",
              "    </tr>\n",
              "    <tr>\n",
              "      <th>std</th>\n",
              "      <td>5178973.330</td>\n",
              "      <td>1628.715</td>\n",
              "    </tr>\n",
              "    <tr>\n",
              "      <th>min</th>\n",
              "      <td>25671.000</td>\n",
              "      <td>0.000</td>\n",
              "    </tr>\n",
              "    <tr>\n",
              "      <th>25%</th>\n",
              "      <td>966583.000</td>\n",
              "      <td>3.500</td>\n",
              "    </tr>\n",
              "    <tr>\n",
              "      <th>50%</th>\n",
              "      <td>1448516.000</td>\n",
              "      <td>10.780</td>\n",
              "    </tr>\n",
              "    <tr>\n",
              "      <th>75%</th>\n",
              "      <td>9553041.500</td>\n",
              "      <td>46.105</td>\n",
              "    </tr>\n",
              "    <tr>\n",
              "      <th>max</th>\n",
              "      <td>18024556.000</td>\n",
              "      <td>467993.620</td>\n",
              "    </tr>\n",
              "  </tbody>\n",
              "</table>\n",
              "</div>"
            ],
            "text/plain": [
              "           item_id  sales_value\n",
              "count    89051.000    89051.000\n",
              "mean   5115771.858       83.458\n",
              "std    5178973.330     1628.715\n",
              "min      25671.000        0.000\n",
              "25%     966583.000        3.500\n",
              "50%    1448516.000       10.780\n",
              "75%    9553041.500       46.105\n",
              "max   18024556.000   467993.620"
            ]
          },
          "metadata": {
            "tags": []
          },
          "execution_count": 19
        }
      ]
    },
    {
      "cell_type": "code",
      "metadata": {
        "id": "yERo2yqP7ss8",
        "colab_type": "code",
        "colab": {
          "base_uri": "https://localhost:8080/",
          "height": 300
        },
        "outputId": "d33d32cc-92d6-4bd4-8379-29dce3381790"
      },
      "source": [
        "popularity = data.groupby('item_id')['user_id'].nunique().reset_index()\n",
        "popularity.describe()"
      ],
      "execution_count": 20,
      "outputs": [
        {
          "output_type": "execute_result",
          "data": {
            "text/html": [
              "<div>\n",
              "<style scoped>\n",
              "    .dataframe tbody tr th:only-of-type {\n",
              "        vertical-align: middle;\n",
              "    }\n",
              "\n",
              "    .dataframe tbody tr th {\n",
              "        vertical-align: top;\n",
              "    }\n",
              "\n",
              "    .dataframe thead th {\n",
              "        text-align: right;\n",
              "    }\n",
              "</style>\n",
              "<table border=\"1\" class=\"dataframe\">\n",
              "  <thead>\n",
              "    <tr style=\"text-align: right;\">\n",
              "      <th></th>\n",
              "      <th>item_id</th>\n",
              "      <th>user_id</th>\n",
              "    </tr>\n",
              "  </thead>\n",
              "  <tbody>\n",
              "    <tr>\n",
              "      <th>count</th>\n",
              "      <td>89051.000</td>\n",
              "      <td>89051.000</td>\n",
              "    </tr>\n",
              "    <tr>\n",
              "      <th>mean</th>\n",
              "      <td>5115771.858</td>\n",
              "      <td>14.760</td>\n",
              "    </tr>\n",
              "    <tr>\n",
              "      <th>std</th>\n",
              "      <td>5178973.330</td>\n",
              "      <td>45.904</td>\n",
              "    </tr>\n",
              "    <tr>\n",
              "      <th>min</th>\n",
              "      <td>25671.000</td>\n",
              "      <td>1.000</td>\n",
              "    </tr>\n",
              "    <tr>\n",
              "      <th>25%</th>\n",
              "      <td>966583.000</td>\n",
              "      <td>1.000</td>\n",
              "    </tr>\n",
              "    <tr>\n",
              "      <th>50%</th>\n",
              "      <td>1448516.000</td>\n",
              "      <td>2.000</td>\n",
              "    </tr>\n",
              "    <tr>\n",
              "      <th>75%</th>\n",
              "      <td>9553041.500</td>\n",
              "      <td>10.000</td>\n",
              "    </tr>\n",
              "    <tr>\n",
              "      <th>max</th>\n",
              "      <td>18024556.000</td>\n",
              "      <td>2039.000</td>\n",
              "    </tr>\n",
              "  </tbody>\n",
              "</table>\n",
              "</div>"
            ],
            "text/plain": [
              "           item_id   user_id\n",
              "count    89051.000 89051.000\n",
              "mean   5115771.858    14.760\n",
              "std    5178973.330    45.904\n",
              "min      25671.000     1.000\n",
              "25%     966583.000     1.000\n",
              "50%    1448516.000     2.000\n",
              "75%    9553041.500    10.000\n",
              "max   18024556.000  2039.000"
            ]
          },
          "metadata": {
            "tags": []
          },
          "execution_count": 20
        }
      ]
    },
    {
      "cell_type": "markdown",
      "metadata": {
        "id": "VEFYUu-h7stF",
        "colab_type": "text"
      },
      "source": [
        "## Data processing"
      ]
    },
    {
      "cell_type": "markdown",
      "metadata": {
        "id": "J5xV1ZsEq9k0",
        "colab_type": "text"
      },
      "source": [
        "### Price items"
      ]
    },
    {
      "cell_type": "code",
      "metadata": {
        "id": "r8_B911nsWN6",
        "colab_type": "code",
        "colab": {}
      },
      "source": [
        "item_price = data.loc[data.quantity != 0, ['item_id', 'sales_value', 'quantity']] "
      ],
      "execution_count": 21,
      "outputs": []
    },
    {
      "cell_type": "code",
      "metadata": {
        "id": "AeZQUX1vs4sB",
        "colab_type": "code",
        "colab": {}
      },
      "source": [
        "item_price['price'] = item_price.sales_value / item_price.quantity"
      ],
      "execution_count": 22,
      "outputs": []
    },
    {
      "cell_type": "code",
      "metadata": {
        "id": "Dt4-JKBFtbJJ",
        "colab_type": "code",
        "colab": {}
      },
      "source": [
        "item_price = item_price.groupby('item_id').agg({'price': 'max'})"
      ],
      "execution_count": 23,
      "outputs": []
    },
    {
      "cell_type": "code",
      "metadata": {
        "id": "g95XCjJ6syOC",
        "colab_type": "code",
        "colab": {}
      },
      "source": [
        "item_features = item_features.merge(item_price, how='left', left_on='PRODUCT_ID', right_on='item_id')"
      ],
      "execution_count": 24,
      "outputs": []
    },
    {
      "cell_type": "markdown",
      "metadata": {
        "id": "LFaaEWD4vxw4",
        "colab_type": "text"
      },
      "source": [
        "### Adding features"
      ]
    },
    {
      "cell_type": "code",
      "metadata": {
        "id": "LWMBW7s6vvQ3",
        "colab_type": "code",
        "colab": {}
      },
      "source": [
        "data = data.merge(item_features, how='left', left_on='item_id', right_on='PRODUCT_ID')\n",
        "data_valid = data_valid.merge(item_features, how='left', left_on='item_id', right_on='PRODUCT_ID')"
      ],
      "execution_count": 25,
      "outputs": []
    },
    {
      "cell_type": "markdown",
      "metadata": {
        "id": "cR5EktbgJ8kt",
        "colab_type": "text"
      },
      "source": [
        ""
      ]
    },
    {
      "cell_type": "code",
      "metadata": {
        "id": "WQoSPnuuJ815",
        "colab_type": "code",
        "colab": {
          "base_uri": "https://localhost:8080/",
          "height": 231
        },
        "outputId": "dc74a574-6df5-40de-ae8c-57df1e6a6dbb"
      },
      "source": [
        "data = optimizing_df(data)\n",
        "data_valid = optimizing_df(data_valid)"
      ],
      "execution_count": 26,
      "outputs": [
        {
          "output_type": "stream",
          "text": [
            "*******************************Start of dataframe memory optimization*******************************\n",
            "Memory usage by dataframe: 1063.56 MB\n",
            "___________________________________MEMORY USAGE AFTER COMPLETION:___________________________________\n",
            "Memory usage of properties dataframe is : 153.85 MB\n",
            "This is 14.47 % of the initial size\n",
            "*******************************Start of dataframe memory optimization*******************************\n",
            "Memory usage by dataframe: 39.38 MB\n",
            "___________________________________MEMORY USAGE AFTER COMPLETION:___________________________________\n",
            "Memory usage of properties dataframe is : 5.91 MB\n",
            "This is 15.02 % of the initial size\n"
          ],
          "name": "stdout"
        }
      ]
    },
    {
      "cell_type": "markdown",
      "metadata": {
        "id": "CWRXkN257stH",
        "colab_type": "text"
      },
      "source": [
        "### Train-test split"
      ]
    },
    {
      "cell_type": "code",
      "metadata": {
        "id": "q3XsrTiQ7stJ",
        "colab_type": "code",
        "colab": {}
      },
      "source": [
        "test_size_weeks = 3\n",
        "\n",
        "X_train = data[data['week_no'] < data['week_no'].max() - test_size_weeks]\n",
        "X_test = data[data['week_no'] >= data['week_no'].max() - test_size_weeks]"
      ],
      "execution_count": 27,
      "outputs": []
    },
    {
      "cell_type": "code",
      "metadata": {
        "id": "0SIeirgS7stP",
        "colab_type": "code",
        "colab": {
          "base_uri": "https://localhost:8080/",
          "height": 38
        },
        "outputId": "bfd55dd6-d62b-4346-9db4-c02240ee022f"
      },
      "source": [
        "X_train.shape[0], X_test.shape[0]"
      ],
      "execution_count": 28,
      "outputs": [
        {
          "output_type": "execute_result",
          "data": {
            "text/plain": [
              "(2278490, 118314)"
            ]
          },
          "metadata": {
            "tags": []
          },
          "execution_count": 28
        }
      ]
    },
    {
      "cell_type": "markdown",
      "metadata": {
        "id": "h_9oGfC17stZ",
        "colab_type": "text"
      },
      "source": [
        "# Modelling"
      ]
    },
    {
      "cell_type": "markdown",
      "metadata": {
        "id": "w-EWyVwJ7st_",
        "colab_type": "text"
      },
      "source": [
        "## Random recommendation"
      ]
    },
    {
      "cell_type": "code",
      "metadata": {
        "id": "ili6EWpRKtKx",
        "colab_type": "code",
        "colab": {}
      },
      "source": [
        "baseline_columns = ['user_id', 'item_id', 'quantity','week_no', 'price', 'SUB_COMMODITY_DESC']"
      ],
      "execution_count": 29,
      "outputs": []
    },
    {
      "cell_type": "code",
      "metadata": {
        "id": "V0QGujnFMKVN",
        "colab_type": "code",
        "colab": {}
      },
      "source": [
        "pipeline_random = make_pipeline(\n",
        "    ColumnSelector(baseline_columns),\n",
        "    PrefilterItems(item_features=item_features),\n",
        "    RandomEstimator(n_rec=5, postfilter_func=postfilter_items),\n",
        ")"
      ],
      "execution_count": 30,
      "outputs": []
    },
    {
      "cell_type": "markdown",
      "metadata": {
        "id": "olbcohLwhBK_",
        "colab_type": "text"
      },
      "source": [
        "## Alternating Least Squares"
      ]
    },
    {
      "cell_type": "code",
      "metadata": {
        "id": "syyhGCuBZKE8",
        "colab_type": "code",
        "colab": {}
      },
      "source": [
        "als_columns = ['user_id', 'item_id', 'quantity','week_no', 'price', 'sales_value', 'SUB_COMMODITY_DESC']"
      ],
      "execution_count": 31,
      "outputs": []
    },
    {
      "cell_type": "code",
      "metadata": {
        "id": "oybNpvUwV0wC",
        "colab_type": "code",
        "colab": {}
      },
      "source": [
        "ilter_item_id=999999\n",
        "\n",
        "pipeline_als = make_pipeline(\n",
        "    ColumnSelector(als_columns),\n",
        "    PrefilterItems(item_features=item_features, filter_item_id=ilter_item_id, n_last_week=26, take_n_popular=5000),\n",
        "    AlsEstimator(\n",
        "        matrix_values='quantity', matrix_aggfunc='count', recommendations='own',\n",
        "        n_rec=5, postfilter_func=postfilter_items, filter_item_id=ilter_item_id, use_gpu=True\n",
        "    )\n",
        ")"
      ],
      "execution_count": 32,
      "outputs": []
    },
    {
      "cell_type": "markdown",
      "metadata": {
        "id": "nXGWZ3xaHlta",
        "colab_type": "text"
      },
      "source": [
        "## Grid search"
      ]
    },
    {
      "cell_type": "code",
      "metadata": {
        "id": "GD-_aTKaUiy_",
        "colab_type": "code",
        "colab": {}
      },
      "source": [
        "def money_precision_scoring(estimator, X_test, item_price=item_price, k=5):\n",
        "    y_true = X_test.groupby('user_id')['item_id'].unique() \\\n",
        "        .reset_index() \\\n",
        "        .rename(columns={'item_id': 'actual'}) \\\n",
        "        .set_index('user_id').actual\n",
        "    y_pred = estimator.predict(X_test)\n",
        "    return money_precision_at_k(y_pred=y_pred, y_true=y_true, item_price=item_price, k=k)"
      ],
      "execution_count": 53,
      "outputs": []
    },
    {
      "cell_type": "markdown",
      "metadata": {
        "id": "UUTQfBZiZRp2",
        "colab_type": "text"
      },
      "source": [
        "### Random recommendation "
      ]
    },
    {
      "cell_type": "code",
      "metadata": {
        "id": "zwFm9_gO3kU3",
        "colab_type": "code",
        "colab": {}
      },
      "source": [
        "param_grid_random= {\n",
        "    'prefilteritems__take_n_popular': [4000, 5000, 6000],\n",
        "    'prefilteritems__n_last_week': [26, 52, 78]\n",
        "}"
      ],
      "execution_count": 123,
      "outputs": []
    },
    {
      "cell_type": "code",
      "metadata": {
        "id": "HhPEDUee3hyN",
        "colab_type": "code",
        "colab": {}
      },
      "source": [
        "grid_search_random = GridSearchCV(pipeline_random, param_grid_random, scoring=money_precision_scoring)\n",
        "grid_search_random = grid_search_random.fit(X_train)"
      ],
      "execution_count": 125,
      "outputs": []
    },
    {
      "cell_type": "code",
      "metadata": {
        "id": "kRcENZfdGLgI",
        "colab_type": "code",
        "colab": {
          "base_uri": "https://localhost:8080/",
          "height": 38
        },
        "outputId": "6e777957-e93b-4234-c9b3-60406c05754e"
      },
      "source": [
        "grid_search_random.best_params_"
      ],
      "execution_count": 127,
      "outputs": [
        {
          "output_type": "execute_result",
          "data": {
            "text/plain": [
              "{'prefilteritems__n_last_week': 26, 'prefilteritems__take_n_popular': 5000}"
            ]
          },
          "metadata": {
            "tags": []
          },
          "execution_count": 127
        }
      ]
    },
    {
      "cell_type": "code",
      "metadata": {
        "id": "csUv97Syo1TE",
        "colab_type": "code",
        "colab": {
          "base_uri": "https://localhost:8080/",
          "height": 38
        },
        "outputId": "75a77c3c-2275-4e9f-ef1b-ddefe8066a21"
      },
      "source": [
        "grid_search_random.best_score_"
      ],
      "execution_count": 126,
      "outputs": [
        {
          "output_type": "execute_result",
          "data": {
            "text/plain": [
              "0.031124192643470522"
            ]
          },
          "metadata": {
            "tags": []
          },
          "execution_count": 126
        }
      ]
    },
    {
      "cell_type": "code",
      "metadata": {
        "id": "bzrQSF1GHbxP",
        "colab_type": "code",
        "colab": {}
      },
      "source": [
        "pipeline_random = make_pipeline(\n",
        "    ColumnSelector(baseline_columns),\n",
        "    PrefilterItems(item_features=item_features, n_last_week=26, take_n_popular=5000),\n",
        "    RandomEstimator(n_rec=5, postfilter_func=postfilter_items),\n",
        ")"
      ],
      "execution_count": 33,
      "outputs": []
    },
    {
      "cell_type": "markdown",
      "metadata": {
        "id": "-Xw3jbds33Yw",
        "colab_type": "text"
      },
      "source": [
        "### Alternating Least Squares"
      ]
    },
    {
      "cell_type": "code",
      "metadata": {
        "id": "2vv_UV8v4UTJ",
        "colab_type": "code",
        "colab": {}
      },
      "source": [
        "param_grid_als={\n",
        "    'prefilteritems__take_n_popular': [4000, 5000, 6000],\n",
        "    'prefilteritems__n_last_week': [26, 52, 78]\n",
        "    'prefilteritems__price_low': [1, 2, 3],\n",
        "    'prefilteritems__price_high': [25, 35, 50]\n",
        "    'alsestimator__factors': [20, 50, 100],\n",
        "    'alsestimator__regularization': [1e-2, 1e-3, 1e-4],\n",
        "    'alsestimator__iterations': [10, 20], \n",
        "}"
      ],
      "execution_count": 119,
      "outputs": []
    },
    {
      "cell_type": "code",
      "metadata": {
        "id": "WI4ZtAOZWZPa",
        "colab_type": "code",
        "colab": {}
      },
      "source": [
        "grid_search_als = GridSearchCV(\n",
        "    pipeline_als, param_grid_als, \n",
        "    scoring=money_precision_scoring,\n",
        ")\n",
        "\n",
        "grid_search_als = grid_search_als.fit(X_train)"
      ],
      "execution_count": null,
      "outputs": []
    },
    {
      "cell_type": "code",
      "metadata": {
        "id": "jQy73aZtWe46",
        "colab_type": "code",
        "colab": {
          "base_uri": "https://localhost:8080/",
          "height": 38
        },
        "outputId": "b0a6e28a-0f08-46d8-d572-b62d5b90dde0"
      },
      "source": [
        "grid_search_als.best_score_"
      ],
      "execution_count": 69,
      "outputs": [
        {
          "output_type": "execute_result",
          "data": {
            "text/plain": [
              "0.3499918526585718"
            ]
          },
          "metadata": {
            "tags": []
          },
          "execution_count": 69
        }
      ]
    },
    {
      "cell_type": "code",
      "metadata": {
        "id": "1iQ9xr14ILhM",
        "colab_type": "code",
        "colab": {}
      },
      "source": [
        "pipeline_als = make_pipeline(\n",
        "    ColumnSelector(als_columns),\n",
        "    PrefilterItems(\n",
        "        item_features=item_features, filter_item_id=ilter_item_id, \n",
        "        price_high=35, price_low=1, n_last_week=78, take_n_popular=4000\n",
        "        ),\n",
        "    AlsEstimator(\n",
        "        matrix_values='quantity', matrix_aggfunc='count', recommendations='own',\n",
        "        factors=20, iterations=10, regularization=0.01,\n",
        "        n_rec=5, postfilter_func=postfilter_items, filter_item_id=ilter_item_id, use_gpu=True\n",
        "    )\n",
        ")"
      ],
      "execution_count": 67,
      "outputs": []
    },
    {
      "cell_type": "markdown",
      "metadata": {
        "id": "YJ45_hXSs5ew",
        "colab_type": "text"
      },
      "source": [
        "## Validate"
      ]
    },
    {
      "cell_type": "code",
      "metadata": {
        "id": "g3h5n8IchP2m",
        "colab_type": "code",
        "colab": {}
      },
      "source": [
        "y_valid = data_valid.groupby('user_id')['item_id'].unique() \\\n",
        "                    .reset_index() \\\n",
        "                    .rename(columns={'item_id': 'actual'}) \\\n",
        "                    .set_index('user_id').actual"
      ],
      "execution_count": 35,
      "outputs": []
    },
    {
      "cell_type": "code",
      "metadata": {
        "id": "3dBwwg1nKqm5",
        "colab_type": "code",
        "colab": {
          "base_uri": "https://localhost:8080/",
          "height": 134,
          "referenced_widgets": [
            "7ed35bfc548e4fabb95bac6608a9a39d",
            "654e6732381e464fa0f0178dc1210f48",
            "e7e8b32b09d04f048c45e887c8584804",
            "7c2405ca55714a9a816f229aa1e6dbe4",
            "dfbb4f98ac4d457db95a08537c57caa2",
            "68ff43ae7d5c4f9fbfe3173221e6e1af",
            "0765f50edb5d488a9042e9222679a463",
            "b870dd5e2d414494a8f8f041a988a579"
          ]
        },
        "outputId": "a7bda1e6-ae27-4422-9a9d-598a44c6b335"
      },
      "source": [
        "test_users = y_valid.shape[0]\n",
        "new_test_users = len(set(y_valid.index) - set(X_train.user_id))\n",
        "user_test_less = (y_valid.swifter.apply(len) < 5).sum()\n",
        "\n",
        "print(f'В тестовом дата сете {test_users} юзеров')\n",
        "print(f'В тестовом дата сете {new_test_users} новых юзеров')\n",
        "print(f'В тестовом дата сете {user_test_less} юзеров, которые купили меньше 5 товаров')"
      ],
      "execution_count": 36,
      "outputs": [
        {
          "output_type": "display_data",
          "data": {
            "application/vnd.jupyter.widget-view+json": {
              "model_id": "7ed35bfc548e4fabb95bac6608a9a39d",
              "version_minor": 0,
              "version_major": 2
            },
            "text/plain": [
              "HBox(children=(FloatProgress(value=0.0, description='Pandas Apply', max=1885.0, style=ProgressStyle(descriptio…"
            ]
          },
          "metadata": {
            "tags": []
          }
        },
        {
          "output_type": "stream",
          "text": [
            "\n",
            "В тестовом дата сете 1885 юзеров\n",
            "В тестовом дата сете 1 новых юзеров\n",
            "В тестовом дата сете 177 юзеров, которые купили меньше 5 товаров\n"
          ],
          "name": "stdout"
        }
      ]
    },
    {
      "cell_type": "markdown",
      "metadata": {
        "id": "7ghyClWtfI4R",
        "colab_type": "text"
      },
      "source": [
        "### Random recommendation "
      ]
    },
    {
      "cell_type": "code",
      "metadata": {
        "id": "dBDpvK0ixnTe",
        "colab_type": "code",
        "colab": {
          "base_uri": "https://localhost:8080/",
          "height": 38
        },
        "outputId": "9af02ff9-8af3-4859-e800-5b4d14a7da1f"
      },
      "source": [
        "pipeline_random = pipeline_random.fit(data)\n",
        "y_pred_random = pipeline_random.predict(data_valid)\n",
        "money_precision_at_k(y_pred_random, y_valid, item_price=item_price, k=5)"
      ],
      "execution_count": 44,
      "outputs": [
        {
          "output_type": "execute_result",
          "data": {
            "text/plain": [
              "7.993281203077634e-05"
            ]
          },
          "metadata": {
            "tags": []
          },
          "execution_count": 44
        }
      ]
    },
    {
      "cell_type": "markdown",
      "metadata": {
        "id": "cezrkH3pfNEU",
        "colab_type": "text"
      },
      "source": [
        "### Alternating Least Squares"
      ]
    },
    {
      "cell_type": "code",
      "metadata": {
        "id": "RZohSmsdmSfe",
        "colab_type": "code",
        "colab": {
          "base_uri": "https://localhost:8080/",
          "height": 166,
          "referenced_widgets": [
            "c0c3dad568cc46b08736d4dd1be3c131",
            "faee94142c5a4353864e54ac574c4968",
            "151058432c574087a506b0de073676ad",
            "7dd5f871ba3b4f8e91b3cef6806e0ee5",
            "1abc04498d37471fbcb3f7fbb5126ec4",
            "760d5c9764e1457c882b9848fe51f151",
            "fe7d58843fae4af7a556650007903670",
            "fc084da9b1a745f980596481245626a2",
            "ebf36664099e4520b2c90a06db64c0b9",
            "c90036a6189c44ba9a924b0f6cb0a3b1",
            "82797b62007d497996f1850da59514a8",
            "ee8fdf671361419c963687d3f584d869",
            "109d20f79b4945a180715f15fc6eac0e",
            "156d6be20bed433282506c8f74771807",
            "9a501c86ba554c909e80dcf3955b3370",
            "020cbf594be34f00bad385980d1c4d31"
          ]
        },
        "outputId": "860661fc-a68c-4367-abc8-b354653bf728"
      },
      "source": [
        "pipeline_als = pipeline_als.fit(data)\n",
        "y_pred_als = pipeline_als.predict(data_valid)\n",
        "money_precision_at_k(y_pred_als, y_valid, item_price=item_price, k=5)"
      ],
      "execution_count": 68,
      "outputs": [
        {
          "output_type": "stream",
          "text": [
            "WARNING:implicit:GPU training requires factor size to be a multiple of 32. Increasing factors from 20 to 32.\n"
          ],
          "name": "stderr"
        },
        {
          "output_type": "display_data",
          "data": {
            "application/vnd.jupyter.widget-view+json": {
              "model_id": "c0c3dad568cc46b08736d4dd1be3c131",
              "version_minor": 0,
              "version_major": 2
            },
            "text/plain": [
              "HBox(children=(FloatProgress(value=0.0, max=10.0), HTML(value='')))"
            ]
          },
          "metadata": {
            "tags": []
          }
        },
        {
          "output_type": "stream",
          "text": [
            "\n"
          ],
          "name": "stdout"
        },
        {
          "output_type": "display_data",
          "data": {
            "application/vnd.jupyter.widget-view+json": {
              "model_id": "ebf36664099e4520b2c90a06db64c0b9",
              "version_minor": 0,
              "version_major": 2
            },
            "text/plain": [
              "HBox(children=(FloatProgress(value=0.0, max=4001.0), HTML(value='')))"
            ]
          },
          "metadata": {
            "tags": []
          }
        },
        {
          "output_type": "stream",
          "text": [
            "\n"
          ],
          "name": "stdout"
        },
        {
          "output_type": "execute_result",
          "data": {
            "text/plain": [
              "0.2054075060754634"
            ]
          },
          "metadata": {
            "tags": []
          },
          "execution_count": 68
        }
      ]
    },
    {
      "cell_type": "markdown",
      "metadata": {
        "id": "p00NH2fhYs_z",
        "colab_type": "text"
      },
      "source": [
        "## Submit"
      ]
    },
    {
      "cell_type": "code",
      "metadata": {
        "id": "EHaRqKKHfl5U",
        "colab_type": "code",
        "colab": {
          "base_uri": "https://localhost:8080/",
          "height": 145
        },
        "outputId": "bb255c8e-74b1-453c-fa66-64d0665b250c"
      },
      "source": [
        "y_pred_als.head()"
      ],
      "execution_count": 70,
      "outputs": [
        {
          "output_type": "execute_result",
          "data": {
            "text/plain": [
              "1      [856942, 9297615, 1074612, 8293439, 9655212]\n",
              "2        [1076580, 838136, 911974, 1007414, 826784]\n",
              "3       [998206, 921345, 1092937, 964594, 13842214]\n",
              "6    [1119051, 13003092, 9911484, 5580166, 8203834]\n",
              "7       [840386, 949836, 9338009, 6602729, 1122358]\n",
              "dtype: object"
            ]
          },
          "metadata": {
            "tags": []
          },
          "execution_count": 70
        }
      ]
    },
    {
      "cell_type": "code",
      "metadata": {
        "id": "kkdERgtlfahc",
        "colab_type": "code",
        "colab": {}
      },
      "source": [
        "y_pred_als.to_csv('recommendations.csv', header=None)"
      ],
      "execution_count": 72,
      "outputs": []
    }
  ]
}